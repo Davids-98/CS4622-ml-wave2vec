{
  "cells": [
    {
      "cell_type": "markdown",
      "metadata": {
        "id": "RGy1xeVJcb9b"
      },
      "source": [
        "**Import required libraries**"
      ]
    },
    {
      "cell_type": "code",
      "execution_count": null,
      "metadata": {
        "id": "u1I3Q0NSchby"
      },
      "outputs": [],
      "source": [
        "# Import necessary libraries\n",
        "\n",
        "import pandas as pd\n",
        "from sklearn.metrics import accuracy_score\n",
        "from sklearn.feature_selection import SelectKBest, f_classif\n",
        "from sklearn.metrics import mean_squared_error\n",
        "from sklearn.preprocessing import StandardScaler\n",
        "from sklearn.svm import SVC\n",
        "from sklearn.linear_model import LinearRegression\n",
        "from sklearn.metrics import accuracy_score\n",
        "import matplotlib.pyplot as plt\n",
        "import seaborn as sn\n",
        "from sklearn.model_selection import cross_val_score\n",
        "import numpy as np"
      ]
    },
    {
      "cell_type": "markdown",
      "metadata": {
        "id": "kj7vTR5sb3AM"
      },
      "source": [
        "**Mount the Google Drive**"
      ]
    },
    {
      "cell_type": "code",
      "execution_count": null,
      "metadata": {
        "colab": {
          "base_uri": "https://localhost:8080/"
        },
        "id": "yz3MqkBaabQw",
        "outputId": "5a48a777-261e-4646-f878-7179e3759b96"
      },
      "outputs": [
        {
          "name": "stdout",
          "output_type": "stream",
          "text": [
            "Drive already mounted at /content/drive; to attempt to forcibly remount, call drive.mount(\"/content/drive\", force_remount=True).\n"
          ]
        }
      ],
      "source": [
        "# Mount Google Drive\n",
        "\n",
        "from google.colab import drive\n",
        "drive.mount('/content/drive')"
      ]
    },
    {
      "cell_type": "markdown",
      "metadata": {
        "id": "uR8J-t0OcvbG"
      },
      "source": [
        "**Load data from csv files**"
      ]
    },
    {
      "cell_type": "code",
      "execution_count": null,
      "metadata": {
        "id": "OF0BuRrHcydJ"
      },
      "outputs": [],
      "source": [
        "# Define file paths for the datasets\n",
        "trainData = \"/content/drive/MyDrive/wav2vec-layer-9/train.csv\"\n",
        "validData = \"/content/drive/MyDrive/wav2vec-layer-9/valid.csv\"\n",
        "testData = \"/content/drive/MyDrive/wav2vec-layer-9/test.csv\"\n",
        "\n",
        "# Load data into DataFrames\n",
        "\n",
        "trainDataFrame = pd.read_csv(trainData)\n",
        "validDataFrame= pd.read_csv(validData)\n",
        "testDataFrame = pd.read_csv(testData)"
      ]
    },
    {
      "cell_type": "code",
      "execution_count": null,
      "metadata": {
        "colab": {
          "base_uri": "https://localhost:8080/",
          "height": 255
        },
        "id": "WrS_QvhUub_l",
        "outputId": "54ec27e4-7bf2-4b64-a335-8ce87bf547c1"
      },
      "outputs": [
        {
          "data": {
            "text/html": [
              "\n",
              "  <div id=\"df-605dd33e-301d-4958-b231-3aed5087a406\" class=\"colab-df-container\">\n",
              "    <div>\n",
              "<style scoped>\n",
              "    .dataframe tbody tr th:only-of-type {\n",
              "        vertical-align: middle;\n",
              "    }\n",
              "\n",
              "    .dataframe tbody tr th {\n",
              "        vertical-align: top;\n",
              "    }\n",
              "\n",
              "    .dataframe thead th {\n",
              "        text-align: right;\n",
              "    }\n",
              "</style>\n",
              "<table border=\"1\" class=\"dataframe\">\n",
              "  <thead>\n",
              "    <tr style=\"text-align: right;\">\n",
              "      <th></th>\n",
              "      <th>feature_1</th>\n",
              "      <th>feature_2</th>\n",
              "      <th>feature_3</th>\n",
              "      <th>feature_4</th>\n",
              "      <th>feature_5</th>\n",
              "      <th>feature_6</th>\n",
              "      <th>feature_7</th>\n",
              "      <th>feature_8</th>\n",
              "      <th>feature_9</th>\n",
              "      <th>feature_10</th>\n",
              "      <th>...</th>\n",
              "      <th>feature_759</th>\n",
              "      <th>feature_760</th>\n",
              "      <th>feature_761</th>\n",
              "      <th>feature_762</th>\n",
              "      <th>feature_763</th>\n",
              "      <th>feature_764</th>\n",
              "      <th>feature_765</th>\n",
              "      <th>feature_766</th>\n",
              "      <th>feature_767</th>\n",
              "      <th>feature_768</th>\n",
              "    </tr>\n",
              "  </thead>\n",
              "  <tbody>\n",
              "    <tr>\n",
              "      <th>0</th>\n",
              "      <td>0.013112</td>\n",
              "      <td>0.130904</td>\n",
              "      <td>0.020284</td>\n",
              "      <td>0.063018</td>\n",
              "      <td>-0.034321</td>\n",
              "      <td>-0.073516</td>\n",
              "      <td>-0.030659</td>\n",
              "      <td>-0.064994</td>\n",
              "      <td>0.024153</td>\n",
              "      <td>0.082765</td>\n",
              "      <td>...</td>\n",
              "      <td>0.037803</td>\n",
              "      <td>0.241121</td>\n",
              "      <td>0.079949</td>\n",
              "      <td>-0.186099</td>\n",
              "      <td>-0.096718</td>\n",
              "      <td>0.126006</td>\n",
              "      <td>-0.023069</td>\n",
              "      <td>0.190374</td>\n",
              "      <td>0.146516</td>\n",
              "      <td>0.038047</td>\n",
              "    </tr>\n",
              "    <tr>\n",
              "      <th>1</th>\n",
              "      <td>0.005934</td>\n",
              "      <td>0.138592</td>\n",
              "      <td>-0.007000</td>\n",
              "      <td>0.055925</td>\n",
              "      <td>-0.021927</td>\n",
              "      <td>-0.084788</td>\n",
              "      <td>0.013339</td>\n",
              "      <td>0.060811</td>\n",
              "      <td>-0.011344</td>\n",
              "      <td>0.039792</td>\n",
              "      <td>...</td>\n",
              "      <td>-0.098701</td>\n",
              "      <td>0.042921</td>\n",
              "      <td>0.018571</td>\n",
              "      <td>-0.114785</td>\n",
              "      <td>-0.105186</td>\n",
              "      <td>0.059050</td>\n",
              "      <td>0.021443</td>\n",
              "      <td>0.013027</td>\n",
              "      <td>0.046826</td>\n",
              "      <td>-0.026682</td>\n",
              "    </tr>\n",
              "    <tr>\n",
              "      <th>2</th>\n",
              "      <td>-0.067210</td>\n",
              "      <td>0.078710</td>\n",
              "      <td>-0.044344</td>\n",
              "      <td>0.101248</td>\n",
              "      <td>-0.074331</td>\n",
              "      <td>-0.088951</td>\n",
              "      <td>0.074616</td>\n",
              "      <td>0.007231</td>\n",
              "      <td>0.021091</td>\n",
              "      <td>0.080092</td>\n",
              "      <td>...</td>\n",
              "      <td>0.029569</td>\n",
              "      <td>0.053370</td>\n",
              "      <td>0.096232</td>\n",
              "      <td>-0.369018</td>\n",
              "      <td>-0.066708</td>\n",
              "      <td>-0.003730</td>\n",
              "      <td>-0.063339</td>\n",
              "      <td>-0.044497</td>\n",
              "      <td>-0.024363</td>\n",
              "      <td>-0.042594</td>\n",
              "    </tr>\n",
              "    <tr>\n",
              "      <th>3</th>\n",
              "      <td>-0.005678</td>\n",
              "      <td>0.060703</td>\n",
              "      <td>0.033954</td>\n",
              "      <td>0.068771</td>\n",
              "      <td>-0.039923</td>\n",
              "      <td>-0.186583</td>\n",
              "      <td>0.014921</td>\n",
              "      <td>0.020791</td>\n",
              "      <td>0.017441</td>\n",
              "      <td>0.016184</td>\n",
              "      <td>...</td>\n",
              "      <td>-0.095406</td>\n",
              "      <td>0.018405</td>\n",
              "      <td>-0.018047</td>\n",
              "      <td>-0.080393</td>\n",
              "      <td>-0.114030</td>\n",
              "      <td>0.048255</td>\n",
              "      <td>0.033839</td>\n",
              "      <td>0.035026</td>\n",
              "      <td>-0.047988</td>\n",
              "      <td>-0.038252</td>\n",
              "    </tr>\n",
              "    <tr>\n",
              "      <th>4</th>\n",
              "      <td>-0.076360</td>\n",
              "      <td>0.061095</td>\n",
              "      <td>-0.004938</td>\n",
              "      <td>0.066692</td>\n",
              "      <td>-0.040454</td>\n",
              "      <td>-0.005141</td>\n",
              "      <td>-0.003213</td>\n",
              "      <td>0.025721</td>\n",
              "      <td>0.083558</td>\n",
              "      <td>0.005890</td>\n",
              "      <td>...</td>\n",
              "      <td>-0.003129</td>\n",
              "      <td>0.045479</td>\n",
              "      <td>0.057146</td>\n",
              "      <td>-0.194466</td>\n",
              "      <td>0.000739</td>\n",
              "      <td>0.018702</td>\n",
              "      <td>0.013192</td>\n",
              "      <td>-0.038486</td>\n",
              "      <td>0.033358</td>\n",
              "      <td>-0.038452</td>\n",
              "    </tr>\n",
              "  </tbody>\n",
              "</table>\n",
              "<p>5 rows × 768 columns</p>\n",
              "</div>\n",
              "    <div class=\"colab-df-buttons\">\n",
              "\n",
              "  <div class=\"colab-df-container\">\n",
              "    <button class=\"colab-df-convert\" onclick=\"convertToInteractive('df-605dd33e-301d-4958-b231-3aed5087a406')\"\n",
              "            title=\"Convert this dataframe to an interactive table.\"\n",
              "            style=\"display:none;\">\n",
              "\n",
              "  <svg xmlns=\"http://www.w3.org/2000/svg\" height=\"24px\" viewBox=\"0 -960 960 960\">\n",
              "    <path d=\"M120-120v-720h720v720H120Zm60-500h600v-160H180v160Zm220 220h160v-160H400v160Zm0 220h160v-160H400v160ZM180-400h160v-160H180v160Zm440 0h160v-160H620v160ZM180-180h160v-160H180v160Zm440 0h160v-160H620v160Z\"/>\n",
              "  </svg>\n",
              "    </button>\n",
              "\n",
              "  <style>\n",
              "    .colab-df-container {\n",
              "      display:flex;\n",
              "      gap: 12px;\n",
              "    }\n",
              "\n",
              "    .colab-df-convert {\n",
              "      background-color: #E8F0FE;\n",
              "      border: none;\n",
              "      border-radius: 50%;\n",
              "      cursor: pointer;\n",
              "      display: none;\n",
              "      fill: #1967D2;\n",
              "      height: 32px;\n",
              "      padding: 0 0 0 0;\n",
              "      width: 32px;\n",
              "    }\n",
              "\n",
              "    .colab-df-convert:hover {\n",
              "      background-color: #E2EBFA;\n",
              "      box-shadow: 0px 1px 2px rgba(60, 64, 67, 0.3), 0px 1px 3px 1px rgba(60, 64, 67, 0.15);\n",
              "      fill: #174EA6;\n",
              "    }\n",
              "\n",
              "    .colab-df-buttons div {\n",
              "      margin-bottom: 4px;\n",
              "    }\n",
              "\n",
              "    [theme=dark] .colab-df-convert {\n",
              "      background-color: #3B4455;\n",
              "      fill: #D2E3FC;\n",
              "    }\n",
              "\n",
              "    [theme=dark] .colab-df-convert:hover {\n",
              "      background-color: #434B5C;\n",
              "      box-shadow: 0px 1px 3px 1px rgba(0, 0, 0, 0.15);\n",
              "      filter: drop-shadow(0px 1px 2px rgba(0, 0, 0, 0.3));\n",
              "      fill: #FFFFFF;\n",
              "    }\n",
              "  </style>\n",
              "\n",
              "    <script>\n",
              "      const buttonEl =\n",
              "        document.querySelector('#df-605dd33e-301d-4958-b231-3aed5087a406 button.colab-df-convert');\n",
              "      buttonEl.style.display =\n",
              "        google.colab.kernel.accessAllowed ? 'block' : 'none';\n",
              "\n",
              "      async function convertToInteractive(key) {\n",
              "        const element = document.querySelector('#df-605dd33e-301d-4958-b231-3aed5087a406');\n",
              "        const dataTable =\n",
              "          await google.colab.kernel.invokeFunction('convertToInteractive',\n",
              "                                                    [key], {});\n",
              "        if (!dataTable) return;\n",
              "\n",
              "        const docLinkHtml = 'Like what you see? Visit the ' +\n",
              "          '<a target=\"_blank\" href=https://colab.research.google.com/notebooks/data_table.ipynb>data table notebook</a>'\n",
              "          + ' to learn more about interactive tables.';\n",
              "        element.innerHTML = '';\n",
              "        dataTable['output_type'] = 'display_data';\n",
              "        await google.colab.output.renderOutput(dataTable, element);\n",
              "        const docLink = document.createElement('div');\n",
              "        docLink.innerHTML = docLinkHtml;\n",
              "        element.appendChild(docLink);\n",
              "      }\n",
              "    </script>\n",
              "  </div>\n",
              "\n",
              "\n",
              "<div id=\"df-98bc38d3-c8eb-4b99-b4b6-0d259a8d6206\">\n",
              "  <button class=\"colab-df-quickchart\" onclick=\"quickchart('df-98bc38d3-c8eb-4b99-b4b6-0d259a8d6206')\"\n",
              "            title=\"Suggest charts.\"\n",
              "            style=\"display:none;\">\n",
              "\n",
              "<svg xmlns=\"http://www.w3.org/2000/svg\" height=\"24px\"viewBox=\"0 0 24 24\"\n",
              "     width=\"24px\">\n",
              "    <g>\n",
              "        <path d=\"M19 3H5c-1.1 0-2 .9-2 2v14c0 1.1.9 2 2 2h14c1.1 0 2-.9 2-2V5c0-1.1-.9-2-2-2zM9 17H7v-7h2v7zm4 0h-2V7h2v10zm4 0h-2v-4h2v4z\"/>\n",
              "    </g>\n",
              "</svg>\n",
              "  </button>\n",
              "\n",
              "<style>\n",
              "  .colab-df-quickchart {\n",
              "      --bg-color: #E8F0FE;\n",
              "      --fill-color: #1967D2;\n",
              "      --hover-bg-color: #E2EBFA;\n",
              "      --hover-fill-color: #174EA6;\n",
              "      --disabled-fill-color: #AAA;\n",
              "      --disabled-bg-color: #DDD;\n",
              "  }\n",
              "\n",
              "  [theme=dark] .colab-df-quickchart {\n",
              "      --bg-color: #3B4455;\n",
              "      --fill-color: #D2E3FC;\n",
              "      --hover-bg-color: #434B5C;\n",
              "      --hover-fill-color: #FFFFFF;\n",
              "      --disabled-bg-color: #3B4455;\n",
              "      --disabled-fill-color: #666;\n",
              "  }\n",
              "\n",
              "  .colab-df-quickchart {\n",
              "    background-color: var(--bg-color);\n",
              "    border: none;\n",
              "    border-radius: 50%;\n",
              "    cursor: pointer;\n",
              "    display: none;\n",
              "    fill: var(--fill-color);\n",
              "    height: 32px;\n",
              "    padding: 0;\n",
              "    width: 32px;\n",
              "  }\n",
              "\n",
              "  .colab-df-quickchart:hover {\n",
              "    background-color: var(--hover-bg-color);\n",
              "    box-shadow: 0 1px 2px rgba(60, 64, 67, 0.3), 0 1px 3px 1px rgba(60, 64, 67, 0.15);\n",
              "    fill: var(--button-hover-fill-color);\n",
              "  }\n",
              "\n",
              "  .colab-df-quickchart-complete:disabled,\n",
              "  .colab-df-quickchart-complete:disabled:hover {\n",
              "    background-color: var(--disabled-bg-color);\n",
              "    fill: var(--disabled-fill-color);\n",
              "    box-shadow: none;\n",
              "  }\n",
              "\n",
              "  .colab-df-spinner {\n",
              "    border: 2px solid var(--fill-color);\n",
              "    border-color: transparent;\n",
              "    border-bottom-color: var(--fill-color);\n",
              "    animation:\n",
              "      spin 1s steps(1) infinite;\n",
              "  }\n",
              "\n",
              "  @keyframes spin {\n",
              "    0% {\n",
              "      border-color: transparent;\n",
              "      border-bottom-color: var(--fill-color);\n",
              "      border-left-color: var(--fill-color);\n",
              "    }\n",
              "    20% {\n",
              "      border-color: transparent;\n",
              "      border-left-color: var(--fill-color);\n",
              "      border-top-color: var(--fill-color);\n",
              "    }\n",
              "    30% {\n",
              "      border-color: transparent;\n",
              "      border-left-color: var(--fill-color);\n",
              "      border-top-color: var(--fill-color);\n",
              "      border-right-color: var(--fill-color);\n",
              "    }\n",
              "    40% {\n",
              "      border-color: transparent;\n",
              "      border-right-color: var(--fill-color);\n",
              "      border-top-color: var(--fill-color);\n",
              "    }\n",
              "    60% {\n",
              "      border-color: transparent;\n",
              "      border-right-color: var(--fill-color);\n",
              "    }\n",
              "    80% {\n",
              "      border-color: transparent;\n",
              "      border-right-color: var(--fill-color);\n",
              "      border-bottom-color: var(--fill-color);\n",
              "    }\n",
              "    90% {\n",
              "      border-color: transparent;\n",
              "      border-bottom-color: var(--fill-color);\n",
              "    }\n",
              "  }\n",
              "</style>\n",
              "\n",
              "  <script>\n",
              "    async function quickchart(key) {\n",
              "      const quickchartButtonEl =\n",
              "        document.querySelector('#' + key + ' button');\n",
              "      quickchartButtonEl.disabled = true;  // To prevent multiple clicks.\n",
              "      quickchartButtonEl.classList.add('colab-df-spinner');\n",
              "      try {\n",
              "        const charts = await google.colab.kernel.invokeFunction(\n",
              "            'suggestCharts', [key], {});\n",
              "      } catch (error) {\n",
              "        console.error('Error during call to suggestCharts:', error);\n",
              "      }\n",
              "      quickchartButtonEl.classList.remove('colab-df-spinner');\n",
              "      quickchartButtonEl.classList.add('colab-df-quickchart-complete');\n",
              "    }\n",
              "    (() => {\n",
              "      let quickchartButtonEl =\n",
              "        document.querySelector('#df-98bc38d3-c8eb-4b99-b4b6-0d259a8d6206 button');\n",
              "      quickchartButtonEl.style.display =\n",
              "        google.colab.kernel.accessAllowed ? 'block' : 'none';\n",
              "    })();\n",
              "  </script>\n",
              "</div>\n",
              "    </div>\n",
              "  </div>\n"
            ],
            "text/plain": [
              "   feature_1  feature_2  feature_3  feature_4  feature_5  feature_6  \\\n",
              "0   0.013112   0.130904   0.020284   0.063018  -0.034321  -0.073516   \n",
              "1   0.005934   0.138592  -0.007000   0.055925  -0.021927  -0.084788   \n",
              "2  -0.067210   0.078710  -0.044344   0.101248  -0.074331  -0.088951   \n",
              "3  -0.005678   0.060703   0.033954   0.068771  -0.039923  -0.186583   \n",
              "4  -0.076360   0.061095  -0.004938   0.066692  -0.040454  -0.005141   \n",
              "\n",
              "   feature_7  feature_8  feature_9  feature_10  ...  feature_759  feature_760  \\\n",
              "0  -0.030659  -0.064994   0.024153    0.082765  ...     0.037803     0.241121   \n",
              "1   0.013339   0.060811  -0.011344    0.039792  ...    -0.098701     0.042921   \n",
              "2   0.074616   0.007231   0.021091    0.080092  ...     0.029569     0.053370   \n",
              "3   0.014921   0.020791   0.017441    0.016184  ...    -0.095406     0.018405   \n",
              "4  -0.003213   0.025721   0.083558    0.005890  ...    -0.003129     0.045479   \n",
              "\n",
              "   feature_761  feature_762  feature_763  feature_764  feature_765  \\\n",
              "0     0.079949    -0.186099    -0.096718     0.126006    -0.023069   \n",
              "1     0.018571    -0.114785    -0.105186     0.059050     0.021443   \n",
              "2     0.096232    -0.369018    -0.066708    -0.003730    -0.063339   \n",
              "3    -0.018047    -0.080393    -0.114030     0.048255     0.033839   \n",
              "4     0.057146    -0.194466     0.000739     0.018702     0.013192   \n",
              "\n",
              "   feature_766  feature_767  feature_768  \n",
              "0     0.190374     0.146516     0.038047  \n",
              "1     0.013027     0.046826    -0.026682  \n",
              "2    -0.044497    -0.024363    -0.042594  \n",
              "3     0.035026    -0.047988    -0.038252  \n",
              "4    -0.038486     0.033358    -0.038452  \n",
              "\n",
              "[5 rows x 768 columns]"
            ]
          },
          "execution_count": 24,
          "metadata": {},
          "output_type": "execute_result"
        }
      ],
      "source": [
        "# drop ID column from the test dataset\n",
        "X_test = testDataFrame.drop('ID', axis=1)\n",
        "\n",
        "X_test.head()"
      ]
    },
    {
      "cell_type": "markdown",
      "metadata": {
        "id": "tKHe6O0E3Pna"
      },
      "source": [
        "**Splitting the feature data based on different labels and Standardize features**"
      ]
    },
    {
      "cell_type": "code",
      "execution_count": null,
      "metadata": {
        "id": "T0fVkwrU3XSY"
      },
      "outputs": [],
      "source": [
        "labels = ['label_1', 'label_2', 'label_3', 'label_4']\n",
        "\n",
        "# Initialize dictionaries to store data\n",
        "\n",
        "X_train = {}\n",
        "X_valid = {}\n",
        "y_train = {}\n",
        "y_valid = {}\n",
        "\n",
        "# Loop through labels and perform preprocessing\n",
        "for label in labels:\n",
        "    scaler = StandardScaler()\n",
        "    train_df = trainDataFrame\n",
        "    validate_df = validDataFrame\n",
        "    test_df = testDataFrame\n",
        "    if label == 'label_2': # Remove NaN rows for label_2\n",
        "      train_df = trainDataFrame[trainDataFrame[label].notna()]\n",
        "      validate_df = validDataFrame[validDataFrame[label].notna()]\n",
        "\n",
        "\n",
        "    # Standardize features\n",
        "    X_train[label] = pd.DataFrame(scaler.fit_transform(train_df.iloc[:, :-4]))\n",
        "    X_valid[label] = pd.DataFrame(scaler.transform(validate_df.iloc[:, :-4]))\n",
        "\n",
        "    y_train[label] = train_df[label]\n",
        "    y_valid[label] = validate_df[label]"
      ]
    },
    {
      "cell_type": "code",
      "execution_count": null,
      "metadata": {
        "colab": {
          "base_uri": "https://localhost:8080/",
          "height": 443
        },
        "id": "ca30y9KGvAwu",
        "outputId": "47cb7d52-9035-4107-eec7-535df35d751b"
      },
      "outputs": [
        {
          "data": {
            "text/html": [
              "\n",
              "  <div id=\"df-764133ff-d6b4-4e68-945c-851ffa76e8c7\" class=\"colab-df-container\">\n",
              "    <div>\n",
              "<style scoped>\n",
              "    .dataframe tbody tr th:only-of-type {\n",
              "        vertical-align: middle;\n",
              "    }\n",
              "\n",
              "    .dataframe tbody tr th {\n",
              "        vertical-align: top;\n",
              "    }\n",
              "\n",
              "    .dataframe thead th {\n",
              "        text-align: right;\n",
              "    }\n",
              "</style>\n",
              "<table border=\"1\" class=\"dataframe\">\n",
              "  <thead>\n",
              "    <tr style=\"text-align: right;\">\n",
              "      <th></th>\n",
              "      <th>0</th>\n",
              "      <th>1</th>\n",
              "      <th>2</th>\n",
              "      <th>3</th>\n",
              "      <th>4</th>\n",
              "      <th>5</th>\n",
              "      <th>6</th>\n",
              "      <th>7</th>\n",
              "      <th>8</th>\n",
              "      <th>9</th>\n",
              "      <th>...</th>\n",
              "      <th>758</th>\n",
              "      <th>759</th>\n",
              "      <th>760</th>\n",
              "      <th>761</th>\n",
              "      <th>762</th>\n",
              "      <th>763</th>\n",
              "      <th>764</th>\n",
              "      <th>765</th>\n",
              "      <th>766</th>\n",
              "      <th>767</th>\n",
              "    </tr>\n",
              "  </thead>\n",
              "  <tbody>\n",
              "    <tr>\n",
              "      <th>0</th>\n",
              "      <td>0.732832</td>\n",
              "      <td>-0.333264</td>\n",
              "      <td>0.596066</td>\n",
              "      <td>0.199647</td>\n",
              "      <td>0.001732</td>\n",
              "      <td>-1.366840</td>\n",
              "      <td>0.018982</td>\n",
              "      <td>-0.907009</td>\n",
              "      <td>-0.545760</td>\n",
              "      <td>0.344283</td>\n",
              "      <td>...</td>\n",
              "      <td>-0.714937</td>\n",
              "      <td>0.647667</td>\n",
              "      <td>0.912589</td>\n",
              "      <td>-1.497318</td>\n",
              "      <td>0.296114</td>\n",
              "      <td>1.969895</td>\n",
              "      <td>1.824451</td>\n",
              "      <td>-1.368498</td>\n",
              "      <td>0.951164</td>\n",
              "      <td>-0.865829</td>\n",
              "    </tr>\n",
              "    <tr>\n",
              "      <th>1</th>\n",
              "      <td>1.365401</td>\n",
              "      <td>0.309508</td>\n",
              "      <td>-0.180983</td>\n",
              "      <td>-1.063048</td>\n",
              "      <td>-2.010105</td>\n",
              "      <td>-0.198219</td>\n",
              "      <td>0.789087</td>\n",
              "      <td>-0.739085</td>\n",
              "      <td>1.226836</td>\n",
              "      <td>1.389480</td>\n",
              "      <td>...</td>\n",
              "      <td>0.540657</td>\n",
              "      <td>1.810358</td>\n",
              "      <td>0.297038</td>\n",
              "      <td>-2.621136</td>\n",
              "      <td>1.036625</td>\n",
              "      <td>0.749089</td>\n",
              "      <td>0.591433</td>\n",
              "      <td>0.703918</td>\n",
              "      <td>0.043653</td>\n",
              "      <td>0.470734</td>\n",
              "    </tr>\n",
              "    <tr>\n",
              "      <th>2</th>\n",
              "      <td>0.730976</td>\n",
              "      <td>0.261710</td>\n",
              "      <td>0.806589</td>\n",
              "      <td>-1.419063</td>\n",
              "      <td>-1.164503</td>\n",
              "      <td>0.510101</td>\n",
              "      <td>-1.622114</td>\n",
              "      <td>0.538447</td>\n",
              "      <td>-0.571470</td>\n",
              "      <td>-1.056716</td>\n",
              "      <td>...</td>\n",
              "      <td>0.036815</td>\n",
              "      <td>-1.325684</td>\n",
              "      <td>1.215065</td>\n",
              "      <td>-0.528277</td>\n",
              "      <td>2.344495</td>\n",
              "      <td>-1.033915</td>\n",
              "      <td>0.063473</td>\n",
              "      <td>-1.395501</td>\n",
              "      <td>-1.074788</td>\n",
              "      <td>0.997659</td>\n",
              "    </tr>\n",
              "    <tr>\n",
              "      <th>3</th>\n",
              "      <td>1.792272</td>\n",
              "      <td>-0.560797</td>\n",
              "      <td>-0.063261</td>\n",
              "      <td>1.355869</td>\n",
              "      <td>0.185144</td>\n",
              "      <td>-0.415675</td>\n",
              "      <td>1.135241</td>\n",
              "      <td>1.529019</td>\n",
              "      <td>0.722632</td>\n",
              "      <td>1.736781</td>\n",
              "      <td>...</td>\n",
              "      <td>-0.948772</td>\n",
              "      <td>0.511970</td>\n",
              "      <td>-1.628660</td>\n",
              "      <td>0.288570</td>\n",
              "      <td>-0.877292</td>\n",
              "      <td>-3.326587</td>\n",
              "      <td>-0.783595</td>\n",
              "      <td>1.160318</td>\n",
              "      <td>-0.268674</td>\n",
              "      <td>-2.423979</td>\n",
              "    </tr>\n",
              "    <tr>\n",
              "      <th>4</th>\n",
              "      <td>0.931559</td>\n",
              "      <td>1.914751</td>\n",
              "      <td>-0.497062</td>\n",
              "      <td>-0.179456</td>\n",
              "      <td>0.634145</td>\n",
              "      <td>-1.035922</td>\n",
              "      <td>0.287839</td>\n",
              "      <td>1.079932</td>\n",
              "      <td>-1.051541</td>\n",
              "      <td>-0.964441</td>\n",
              "      <td>...</td>\n",
              "      <td>-0.771970</td>\n",
              "      <td>-1.134301</td>\n",
              "      <td>0.181301</td>\n",
              "      <td>-1.035314</td>\n",
              "      <td>-0.882144</td>\n",
              "      <td>0.497965</td>\n",
              "      <td>1.569586</td>\n",
              "      <td>-1.120745</td>\n",
              "      <td>0.716674</td>\n",
              "      <td>-1.274995</td>\n",
              "    </tr>\n",
              "    <tr>\n",
              "      <th>...</th>\n",
              "      <td>...</td>\n",
              "      <td>...</td>\n",
              "      <td>...</td>\n",
              "      <td>...</td>\n",
              "      <td>...</td>\n",
              "      <td>...</td>\n",
              "      <td>...</td>\n",
              "      <td>...</td>\n",
              "      <td>...</td>\n",
              "      <td>...</td>\n",
              "      <td>...</td>\n",
              "      <td>...</td>\n",
              "      <td>...</td>\n",
              "      <td>...</td>\n",
              "      <td>...</td>\n",
              "      <td>...</td>\n",
              "      <td>...</td>\n",
              "      <td>...</td>\n",
              "      <td>...</td>\n",
              "      <td>...</td>\n",
              "      <td>...</td>\n",
              "    </tr>\n",
              "    <tr>\n",
              "      <th>28515</th>\n",
              "      <td>-0.531084</td>\n",
              "      <td>4.823652</td>\n",
              "      <td>-0.690078</td>\n",
              "      <td>2.931728</td>\n",
              "      <td>-2.889276</td>\n",
              "      <td>-0.410107</td>\n",
              "      <td>-2.777668</td>\n",
              "      <td>-1.848824</td>\n",
              "      <td>-1.757688</td>\n",
              "      <td>-2.644168</td>\n",
              "      <td>...</td>\n",
              "      <td>-1.912513</td>\n",
              "      <td>-1.533322</td>\n",
              "      <td>1.809770</td>\n",
              "      <td>1.577667</td>\n",
              "      <td>4.593500</td>\n",
              "      <td>-4.287958</td>\n",
              "      <td>-0.913250</td>\n",
              "      <td>-3.457048</td>\n",
              "      <td>-6.859236</td>\n",
              "      <td>1.911460</td>\n",
              "    </tr>\n",
              "    <tr>\n",
              "      <th>28516</th>\n",
              "      <td>-0.839453</td>\n",
              "      <td>-0.288817</td>\n",
              "      <td>0.100349</td>\n",
              "      <td>-0.250621</td>\n",
              "      <td>1.000792</td>\n",
              "      <td>0.921216</td>\n",
              "      <td>1.273201</td>\n",
              "      <td>-0.503749</td>\n",
              "      <td>-0.090243</td>\n",
              "      <td>-0.009092</td>\n",
              "      <td>...</td>\n",
              "      <td>-0.454032</td>\n",
              "      <td>-1.030528</td>\n",
              "      <td>-0.781913</td>\n",
              "      <td>-1.157639</td>\n",
              "      <td>0.825222</td>\n",
              "      <td>0.325432</td>\n",
              "      <td>-0.800824</td>\n",
              "      <td>-0.731976</td>\n",
              "      <td>-0.837234</td>\n",
              "      <td>-0.023310</td>\n",
              "    </tr>\n",
              "    <tr>\n",
              "      <th>28517</th>\n",
              "      <td>0.734072</td>\n",
              "      <td>1.542696</td>\n",
              "      <td>0.798632</td>\n",
              "      <td>-0.611055</td>\n",
              "      <td>-0.087593</td>\n",
              "      <td>0.241458</td>\n",
              "      <td>0.238060</td>\n",
              "      <td>-0.996183</td>\n",
              "      <td>1.737493</td>\n",
              "      <td>1.552639</td>\n",
              "      <td>...</td>\n",
              "      <td>-0.992649</td>\n",
              "      <td>-0.681014</td>\n",
              "      <td>0.352801</td>\n",
              "      <td>0.377122</td>\n",
              "      <td>0.962462</td>\n",
              "      <td>-0.024135</td>\n",
              "      <td>-0.552911</td>\n",
              "      <td>0.178693</td>\n",
              "      <td>0.229336</td>\n",
              "      <td>-0.527887</td>\n",
              "    </tr>\n",
              "    <tr>\n",
              "      <th>28518</th>\n",
              "      <td>-0.575220</td>\n",
              "      <td>0.183033</td>\n",
              "      <td>0.484755</td>\n",
              "      <td>0.808226</td>\n",
              "      <td>-0.355355</td>\n",
              "      <td>-1.317169</td>\n",
              "      <td>-0.720143</td>\n",
              "      <td>-0.221078</td>\n",
              "      <td>-0.212898</td>\n",
              "      <td>-0.416933</td>\n",
              "      <td>...</td>\n",
              "      <td>-0.073463</td>\n",
              "      <td>-0.608837</td>\n",
              "      <td>-0.469561</td>\n",
              "      <td>0.406492</td>\n",
              "      <td>-0.533204</td>\n",
              "      <td>1.715348</td>\n",
              "      <td>0.562830</td>\n",
              "      <td>-0.205429</td>\n",
              "      <td>-0.050568</td>\n",
              "      <td>-1.479640</td>\n",
              "    </tr>\n",
              "    <tr>\n",
              "      <th>28519</th>\n",
              "      <td>-0.491704</td>\n",
              "      <td>1.787432</td>\n",
              "      <td>-0.055154</td>\n",
              "      <td>-0.000310</td>\n",
              "      <td>0.695090</td>\n",
              "      <td>-0.952551</td>\n",
              "      <td>1.180263</td>\n",
              "      <td>-1.227268</td>\n",
              "      <td>-0.562087</td>\n",
              "      <td>1.908925</td>\n",
              "      <td>...</td>\n",
              "      <td>-1.454490</td>\n",
              "      <td>-1.736775</td>\n",
              "      <td>0.539743</td>\n",
              "      <td>-0.391047</td>\n",
              "      <td>0.764697</td>\n",
              "      <td>1.689159</td>\n",
              "      <td>-1.129755</td>\n",
              "      <td>1.244572</td>\n",
              "      <td>-0.713474</td>\n",
              "      <td>-0.416060</td>\n",
              "    </tr>\n",
              "  </tbody>\n",
              "</table>\n",
              "<p>28520 rows × 768 columns</p>\n",
              "</div>\n",
              "    <div class=\"colab-df-buttons\">\n",
              "\n",
              "  <div class=\"colab-df-container\">\n",
              "    <button class=\"colab-df-convert\" onclick=\"convertToInteractive('df-764133ff-d6b4-4e68-945c-851ffa76e8c7')\"\n",
              "            title=\"Convert this dataframe to an interactive table.\"\n",
              "            style=\"display:none;\">\n",
              "\n",
              "  <svg xmlns=\"http://www.w3.org/2000/svg\" height=\"24px\" viewBox=\"0 -960 960 960\">\n",
              "    <path d=\"M120-120v-720h720v720H120Zm60-500h600v-160H180v160Zm220 220h160v-160H400v160Zm0 220h160v-160H400v160ZM180-400h160v-160H180v160Zm440 0h160v-160H620v160ZM180-180h160v-160H180v160Zm440 0h160v-160H620v160Z\"/>\n",
              "  </svg>\n",
              "    </button>\n",
              "\n",
              "  <style>\n",
              "    .colab-df-container {\n",
              "      display:flex;\n",
              "      gap: 12px;\n",
              "    }\n",
              "\n",
              "    .colab-df-convert {\n",
              "      background-color: #E8F0FE;\n",
              "      border: none;\n",
              "      border-radius: 50%;\n",
              "      cursor: pointer;\n",
              "      display: none;\n",
              "      fill: #1967D2;\n",
              "      height: 32px;\n",
              "      padding: 0 0 0 0;\n",
              "      width: 32px;\n",
              "    }\n",
              "\n",
              "    .colab-df-convert:hover {\n",
              "      background-color: #E2EBFA;\n",
              "      box-shadow: 0px 1px 2px rgba(60, 64, 67, 0.3), 0px 1px 3px 1px rgba(60, 64, 67, 0.15);\n",
              "      fill: #174EA6;\n",
              "    }\n",
              "\n",
              "    .colab-df-buttons div {\n",
              "      margin-bottom: 4px;\n",
              "    }\n",
              "\n",
              "    [theme=dark] .colab-df-convert {\n",
              "      background-color: #3B4455;\n",
              "      fill: #D2E3FC;\n",
              "    }\n",
              "\n",
              "    [theme=dark] .colab-df-convert:hover {\n",
              "      background-color: #434B5C;\n",
              "      box-shadow: 0px 1px 3px 1px rgba(0, 0, 0, 0.15);\n",
              "      filter: drop-shadow(0px 1px 2px rgba(0, 0, 0, 0.3));\n",
              "      fill: #FFFFFF;\n",
              "    }\n",
              "  </style>\n",
              "\n",
              "    <script>\n",
              "      const buttonEl =\n",
              "        document.querySelector('#df-764133ff-d6b4-4e68-945c-851ffa76e8c7 button.colab-df-convert');\n",
              "      buttonEl.style.display =\n",
              "        google.colab.kernel.accessAllowed ? 'block' : 'none';\n",
              "\n",
              "      async function convertToInteractive(key) {\n",
              "        const element = document.querySelector('#df-764133ff-d6b4-4e68-945c-851ffa76e8c7');\n",
              "        const dataTable =\n",
              "          await google.colab.kernel.invokeFunction('convertToInteractive',\n",
              "                                                    [key], {});\n",
              "        if (!dataTable) return;\n",
              "\n",
              "        const docLinkHtml = 'Like what you see? Visit the ' +\n",
              "          '<a target=\"_blank\" href=https://colab.research.google.com/notebooks/data_table.ipynb>data table notebook</a>'\n",
              "          + ' to learn more about interactive tables.';\n",
              "        element.innerHTML = '';\n",
              "        dataTable['output_type'] = 'display_data';\n",
              "        await google.colab.output.renderOutput(dataTable, element);\n",
              "        const docLink = document.createElement('div');\n",
              "        docLink.innerHTML = docLinkHtml;\n",
              "        element.appendChild(docLink);\n",
              "      }\n",
              "    </script>\n",
              "  </div>\n",
              "\n",
              "\n",
              "<div id=\"df-f6ef60bd-18eb-439f-933a-a72235892ec1\">\n",
              "  <button class=\"colab-df-quickchart\" onclick=\"quickchart('df-f6ef60bd-18eb-439f-933a-a72235892ec1')\"\n",
              "            title=\"Suggest charts.\"\n",
              "            style=\"display:none;\">\n",
              "\n",
              "<svg xmlns=\"http://www.w3.org/2000/svg\" height=\"24px\"viewBox=\"0 0 24 24\"\n",
              "     width=\"24px\">\n",
              "    <g>\n",
              "        <path d=\"M19 3H5c-1.1 0-2 .9-2 2v14c0 1.1.9 2 2 2h14c1.1 0 2-.9 2-2V5c0-1.1-.9-2-2-2zM9 17H7v-7h2v7zm4 0h-2V7h2v10zm4 0h-2v-4h2v4z\"/>\n",
              "    </g>\n",
              "</svg>\n",
              "  </button>\n",
              "\n",
              "<style>\n",
              "  .colab-df-quickchart {\n",
              "      --bg-color: #E8F0FE;\n",
              "      --fill-color: #1967D2;\n",
              "      --hover-bg-color: #E2EBFA;\n",
              "      --hover-fill-color: #174EA6;\n",
              "      --disabled-fill-color: #AAA;\n",
              "      --disabled-bg-color: #DDD;\n",
              "  }\n",
              "\n",
              "  [theme=dark] .colab-df-quickchart {\n",
              "      --bg-color: #3B4455;\n",
              "      --fill-color: #D2E3FC;\n",
              "      --hover-bg-color: #434B5C;\n",
              "      --hover-fill-color: #FFFFFF;\n",
              "      --disabled-bg-color: #3B4455;\n",
              "      --disabled-fill-color: #666;\n",
              "  }\n",
              "\n",
              "  .colab-df-quickchart {\n",
              "    background-color: var(--bg-color);\n",
              "    border: none;\n",
              "    border-radius: 50%;\n",
              "    cursor: pointer;\n",
              "    display: none;\n",
              "    fill: var(--fill-color);\n",
              "    height: 32px;\n",
              "    padding: 0;\n",
              "    width: 32px;\n",
              "  }\n",
              "\n",
              "  .colab-df-quickchart:hover {\n",
              "    background-color: var(--hover-bg-color);\n",
              "    box-shadow: 0 1px 2px rgba(60, 64, 67, 0.3), 0 1px 3px 1px rgba(60, 64, 67, 0.15);\n",
              "    fill: var(--button-hover-fill-color);\n",
              "  }\n",
              "\n",
              "  .colab-df-quickchart-complete:disabled,\n",
              "  .colab-df-quickchart-complete:disabled:hover {\n",
              "    background-color: var(--disabled-bg-color);\n",
              "    fill: var(--disabled-fill-color);\n",
              "    box-shadow: none;\n",
              "  }\n",
              "\n",
              "  .colab-df-spinner {\n",
              "    border: 2px solid var(--fill-color);\n",
              "    border-color: transparent;\n",
              "    border-bottom-color: var(--fill-color);\n",
              "    animation:\n",
              "      spin 1s steps(1) infinite;\n",
              "  }\n",
              "\n",
              "  @keyframes spin {\n",
              "    0% {\n",
              "      border-color: transparent;\n",
              "      border-bottom-color: var(--fill-color);\n",
              "      border-left-color: var(--fill-color);\n",
              "    }\n",
              "    20% {\n",
              "      border-color: transparent;\n",
              "      border-left-color: var(--fill-color);\n",
              "      border-top-color: var(--fill-color);\n",
              "    }\n",
              "    30% {\n",
              "      border-color: transparent;\n",
              "      border-left-color: var(--fill-color);\n",
              "      border-top-color: var(--fill-color);\n",
              "      border-right-color: var(--fill-color);\n",
              "    }\n",
              "    40% {\n",
              "      border-color: transparent;\n",
              "      border-right-color: var(--fill-color);\n",
              "      border-top-color: var(--fill-color);\n",
              "    }\n",
              "    60% {\n",
              "      border-color: transparent;\n",
              "      border-right-color: var(--fill-color);\n",
              "    }\n",
              "    80% {\n",
              "      border-color: transparent;\n",
              "      border-right-color: var(--fill-color);\n",
              "      border-bottom-color: var(--fill-color);\n",
              "    }\n",
              "    90% {\n",
              "      border-color: transparent;\n",
              "      border-bottom-color: var(--fill-color);\n",
              "    }\n",
              "  }\n",
              "</style>\n",
              "\n",
              "  <script>\n",
              "    async function quickchart(key) {\n",
              "      const quickchartButtonEl =\n",
              "        document.querySelector('#' + key + ' button');\n",
              "      quickchartButtonEl.disabled = true;  // To prevent multiple clicks.\n",
              "      quickchartButtonEl.classList.add('colab-df-spinner');\n",
              "      try {\n",
              "        const charts = await google.colab.kernel.invokeFunction(\n",
              "            'suggestCharts', [key], {});\n",
              "      } catch (error) {\n",
              "        console.error('Error during call to suggestCharts:', error);\n",
              "      }\n",
              "      quickchartButtonEl.classList.remove('colab-df-spinner');\n",
              "      quickchartButtonEl.classList.add('colab-df-quickchart-complete');\n",
              "    }\n",
              "    (() => {\n",
              "      let quickchartButtonEl =\n",
              "        document.querySelector('#df-f6ef60bd-18eb-439f-933a-a72235892ec1 button');\n",
              "      quickchartButtonEl.style.display =\n",
              "        google.colab.kernel.accessAllowed ? 'block' : 'none';\n",
              "    })();\n",
              "  </script>\n",
              "</div>\n",
              "    </div>\n",
              "  </div>\n"
            ],
            "text/plain": [
              "            0         1         2         3         4         5         6    \\\n",
              "0      0.732832 -0.333264  0.596066  0.199647  0.001732 -1.366840  0.018982   \n",
              "1      1.365401  0.309508 -0.180983 -1.063048 -2.010105 -0.198219  0.789087   \n",
              "2      0.730976  0.261710  0.806589 -1.419063 -1.164503  0.510101 -1.622114   \n",
              "3      1.792272 -0.560797 -0.063261  1.355869  0.185144 -0.415675  1.135241   \n",
              "4      0.931559  1.914751 -0.497062 -0.179456  0.634145 -1.035922  0.287839   \n",
              "...         ...       ...       ...       ...       ...       ...       ...   \n",
              "28515 -0.531084  4.823652 -0.690078  2.931728 -2.889276 -0.410107 -2.777668   \n",
              "28516 -0.839453 -0.288817  0.100349 -0.250621  1.000792  0.921216  1.273201   \n",
              "28517  0.734072  1.542696  0.798632 -0.611055 -0.087593  0.241458  0.238060   \n",
              "28518 -0.575220  0.183033  0.484755  0.808226 -0.355355 -1.317169 -0.720143   \n",
              "28519 -0.491704  1.787432 -0.055154 -0.000310  0.695090 -0.952551  1.180263   \n",
              "\n",
              "            7         8         9    ...       758       759       760  \\\n",
              "0     -0.907009 -0.545760  0.344283  ... -0.714937  0.647667  0.912589   \n",
              "1     -0.739085  1.226836  1.389480  ...  0.540657  1.810358  0.297038   \n",
              "2      0.538447 -0.571470 -1.056716  ...  0.036815 -1.325684  1.215065   \n",
              "3      1.529019  0.722632  1.736781  ... -0.948772  0.511970 -1.628660   \n",
              "4      1.079932 -1.051541 -0.964441  ... -0.771970 -1.134301  0.181301   \n",
              "...         ...       ...       ...  ...       ...       ...       ...   \n",
              "28515 -1.848824 -1.757688 -2.644168  ... -1.912513 -1.533322  1.809770   \n",
              "28516 -0.503749 -0.090243 -0.009092  ... -0.454032 -1.030528 -0.781913   \n",
              "28517 -0.996183  1.737493  1.552639  ... -0.992649 -0.681014  0.352801   \n",
              "28518 -0.221078 -0.212898 -0.416933  ... -0.073463 -0.608837 -0.469561   \n",
              "28519 -1.227268 -0.562087  1.908925  ... -1.454490 -1.736775  0.539743   \n",
              "\n",
              "            761       762       763       764       765       766       767  \n",
              "0     -1.497318  0.296114  1.969895  1.824451 -1.368498  0.951164 -0.865829  \n",
              "1     -2.621136  1.036625  0.749089  0.591433  0.703918  0.043653  0.470734  \n",
              "2     -0.528277  2.344495 -1.033915  0.063473 -1.395501 -1.074788  0.997659  \n",
              "3      0.288570 -0.877292 -3.326587 -0.783595  1.160318 -0.268674 -2.423979  \n",
              "4     -1.035314 -0.882144  0.497965  1.569586 -1.120745  0.716674 -1.274995  \n",
              "...         ...       ...       ...       ...       ...       ...       ...  \n",
              "28515  1.577667  4.593500 -4.287958 -0.913250 -3.457048 -6.859236  1.911460  \n",
              "28516 -1.157639  0.825222  0.325432 -0.800824 -0.731976 -0.837234 -0.023310  \n",
              "28517  0.377122  0.962462 -0.024135 -0.552911  0.178693  0.229336 -0.527887  \n",
              "28518  0.406492 -0.533204  1.715348  0.562830 -0.205429 -0.050568 -1.479640  \n",
              "28519 -0.391047  0.764697  1.689159 -1.129755  1.244572 -0.713474 -0.416060  \n",
              "\n",
              "[28520 rows x 768 columns]"
            ]
          },
          "execution_count": 26,
          "metadata": {},
          "output_type": "execute_result"
        }
      ],
      "source": [
        "X_train['label_1']"
      ]
    },
    {
      "cell_type": "markdown",
      "metadata": {
        "id": "AGRhzJu3ESI-"
      },
      "source": [
        "**Support Vector Classifire**"
      ]
    },
    {
      "cell_type": "code",
      "execution_count": null,
      "metadata": {
        "id": "dUpGglorEa3E"
      },
      "outputs": [],
      "source": [
        "def support_vector_model(label_name, training_data, validation_data, training_labels, validation_labels):\n",
        "    model = SVC(kernel='linear')\n",
        "    model.fit(training_data[label_name], training_labels[label_name])\n",
        "    labelPredictions = model.predict(validation_data[label_name])\n",
        "    print(f\"+ Accuracy Score for {label_name} = {accuracy_score(validation_labels[label_name], labelPredictions)}\")"
      ]
    },
    {
      "cell_type": "markdown",
      "metadata": {
        "id": "13veUOLhElfv"
      },
      "source": [
        "**Weighted Support Vector Classifire**"
      ]
    },
    {
      "cell_type": "code",
      "execution_count": null,
      "metadata": {
        "id": "y_aHPwxjEtGj"
      },
      "outputs": [],
      "source": [
        "def weighted_support_vector_model(label_name, training_data, validation_data, training_labels, validation_labels):\n",
        "  model = SVC(kernel='linear', class_weight='balanced')\n",
        "  model.fit(training_data[label_name], training_labels[label_name])\n",
        "  labelPredictions = model.predict(validation_data[label_name])\n",
        "  print(f\"+ Accuracy Score for {label_name} = {accuracy_score(validation_labels[label_name], labelPredictions)}\")"
      ]
    },
    {
      "cell_type": "markdown",
      "metadata": {
        "id": "s98qIyIJLh2e"
      },
      "source": [
        "**Random Search for Hyperparameter Tuning**"
      ]
    },
    {
      "cell_type": "code",
      "execution_count": null,
      "metadata": {
        "id": "RNZOdVYoiYea"
      },
      "outputs": [],
      "source": [
        "from sklearn.model_selection import RandomizedSearchCV\n",
        "\n",
        "def perform_random_search(model, param_distribution, X_train, y_train):\n",
        "\n",
        "    # Create a RandomizedSearchCV object\n",
        "    random_search = RandomizedSearchCV(estimator=model, param_distributions=param_distribution, scoring='accuracy', n_iter=5, cv=2, n_jobs=-1, verbose=2)\n",
        "\n",
        "    # Perform the random search\n",
        "    random_search.fit(X_train, y_train)\n",
        "\n",
        "    # Get the best model and best parameters\n",
        "    best_model = random_search.best_estimator_\n",
        "    best_params = random_search.best_params_\n",
        "\n",
        "    return best_model, best_params"
      ]
    },
    {
      "cell_type": "markdown",
      "metadata": {
        "id": "Jac-gCVZLpIq"
      },
      "source": [
        "**Cross Validation**"
      ]
    },
    {
      "cell_type": "code",
      "execution_count": null,
      "metadata": {
        "id": "r9S0mlpsNKZc"
      },
      "outputs": [],
      "source": [
        "def cross_validation(model, k_value, X, y):\n",
        "\n",
        "    scores = cross_val_score(model, X, y, cv=k_value)\n",
        "    mean_score = np.mean(scores)\n",
        "    std_deviation = np.std(scores)\n",
        "    print(\"Cross-Validation Scores:\", scores)\n",
        "    print(\"Mean Score:\", mean_score)\n",
        "    print(\"Standard Deviation:\", std_deviation)"
      ]
    },
    {
      "cell_type": "markdown",
      "metadata": {
        "id": "y9mFRMNFOLdV"
      },
      "source": [
        "# Label 01"
      ]
    },
    {
      "cell_type": "code",
      "execution_count": null,
      "metadata": {
        "colab": {
          "base_uri": "https://localhost:8080/",
          "height": 539
        },
        "id": "RNM6FewWvNcw",
        "outputId": "47226161-b0ca-469d-ef3f-d22671f601d4"
      },
      "outputs": [
        {
          "data": {
            "text/plain": [
              "<Axes: xlabel='label_1', ylabel='count'>"
            ]
          },
          "execution_count": 33,
          "metadata": {},
          "output_type": "execute_result"
        },
        {
          "data": {
            "image/png": "[encoded data removed]",
            "text/plain": [
              "<Figure size 1800x600 with 1 Axes>"
            ]
          },
          "metadata": {},
          "output_type": "display_data"
        }
      ],
      "source": [
        "plt.figure(figsize=(18,6))\n",
        "sn.countplot(data=y_train, x = 'label_1', color = 'skyblue')"
      ]
    },
    {
      "cell_type": "markdown",
      "metadata": {
        "id": "DQPdCGCFE3wJ"
      },
      "source": [
        "**Testing the performance of the initial dataset after data standardization using evaluation metrics**"
      ]
    },
    {
      "cell_type": "code",
      "execution_count": null,
      "metadata": {
        "colab": {
          "base_uri": "https://localhost:8080/"
        },
        "id": "20lM6lFPE5pM",
        "outputId": "475ff201-5b1f-4a56-9f96-209779ddeae4"
      },
      "outputs": [
        {
          "name": "stdout",
          "output_type": "stream",
          "text": [
            "+ Accuracy Score for label_1 = 0.96\n"
          ]
        }
      ],
      "source": [
        "support_vector_model('label_1', X_train, X_valid, y_train, y_valid)"
      ]
    },
    {
      "cell_type": "markdown",
      "metadata": {
        "id": "iI9D7RRP7lJP"
      },
      "source": [
        "**K best method for feature selection**"
      ]
    },
    {
      "cell_type": "code",
      "execution_count": null,
      "metadata": {
        "id": "fI_K8WY17uYF"
      },
      "outputs": [],
      "source": [
        "# Number of new features\n",
        "new_features = 560\n",
        "selector = SelectKBest(f_classif, k=new_features)\n"
      ]
    },
    {
      "cell_type": "code",
      "execution_count": null,
      "metadata": {
        "colab": {
          "base_uri": "https://localhost:8080/"
        },
        "id": "lTPibMFc8Dpd",
        "outputId": "bab9ccdf-6094-4dc3-af85-c6b38da5117d"
      },
      "outputs": [
        {
          "name": "stderr",
          "output_type": "stream",
          "text": [
            "/usr/local/lib/python3.10/dist-packages/sklearn/base.py:432: UserWarning: X has feature names, but SelectKBest was fitted without feature names\n",
            "  warnings.warn(\n"
          ]
        }
      ],
      "source": [
        "\n",
        "# Initialize dictionaries for selected features\n",
        "X_train_selected = {}\n",
        "X_valid_selected = {}\n",
        "X_test_selected_l1 = X_test.copy()\n",
        "\n",
        "X_train_selected['label_1'] = pd.DataFrame(selector.fit_transform(X_train['label_1'], y_train['label_1']))\n",
        "X_valid_selected['label_1'] = pd.DataFrame(selector.transform(X_valid['label_1']))\n",
        "X_test_selected_l1 = pd.DataFrame(selector.transform(X_test_selected_l1))"
      ]
    },
    {
      "cell_type": "markdown",
      "metadata": {
        "id": "u005qgrhBxmN"
      },
      "source": [
        "**Evaluating accuracy after the process of selecting relevant features using K-Best**"
      ]
    },
    {
      "cell_type": "code",
      "execution_count": null,
      "metadata": {
        "colab": {
          "base_uri": "https://localhost:8080/"
        },
        "id": "jzyU3keyB7KO",
        "outputId": "f6b71398-e1ee-48b1-f703-b61b21de860a"
      },
      "outputs": [
        {
          "name": "stdout",
          "output_type": "stream",
          "text": [
            "+ Accuracy Score for label_1 = 0.9613333333333334\n"
          ]
        }
      ],
      "source": [
        "support_vector_model('label_1', X_train_selected, X_valid_selected, y_train, y_valid)"
      ]
    },
    {
      "cell_type": "markdown",
      "metadata": {
        "id": "eDvJ9MzlF7lE"
      },
      "source": [
        "**Principal Component Analysis for feature selection**"
      ]
    },
    {
      "cell_type": "code",
      "execution_count": null,
      "metadata": {
        "colab": {
          "base_uri": "https://localhost:8080/"
        },
        "id": "BY8WhDC5JcOo",
        "outputId": "d7f0d26e-7235-4125-d5e0-b100c2cfb742"
      },
      "outputs": [
        {
          "name": "stderr",
          "output_type": "stream",
          "text": [
            "/usr/local/lib/python3.10/dist-packages/sklearn/base.py:432: UserWarning: X has feature names, but PCA was fitted without feature names\n",
            "  warnings.warn(\n"
          ]
        }
      ],
      "source": [
        "from sklearn.decomposition import PCA\n",
        "\n",
        "pca = PCA(n_components=0.99, svd_solver='full')\n",
        "\n",
        "# Initialize dictionaries for selected features\n",
        "X_train_pca_selected = {}\n",
        "X_valid_pca_selected = {}\n",
        "X_test_pca_selected_l1 = X_test.copy()\n",
        "\n",
        "X_train_pca_selected['label_1'] = pd.DataFrame(pca.fit_transform(X_train['label_1']))\n",
        "X_valid_pca_selected['label_1'] = pd.DataFrame(pca.transform(X_valid['label_1']))\n",
        "X_test_pca_selected_l1 = pd.DataFrame(pca.transform(X_test_pca_selected_l1))\n"
      ]
    },
    {
      "cell_type": "markdown",
      "metadata": {
        "id": "XNMom53n3sox"
      },
      "source": [
        "**Evaluating accuracy after the process of selecting relevant features using PCA**"
      ]
    },
    {
      "cell_type": "code",
      "execution_count": null,
      "metadata": {
        "colab": {
          "base_uri": "https://localhost:8080/"
        },
        "id": "fY_OD8YSKEVG",
        "outputId": "84372835-57ca-4499-f15a-ecce4abee1a7"
      },
      "outputs": [
        {
          "name": "stdout",
          "output_type": "stream",
          "text": [
            "+ Accuracy Score for label_1 = 0.956\n"
          ]
        }
      ],
      "source": [
        "support_vector_model('label_1', X_train_pca_selected, X_valid_pca_selected, y_train, y_valid)"
      ]
    },
    {
      "cell_type": "markdown",
      "metadata": {
        "id": "Il4NGKAd88qj"
      },
      "source": [
        "**Cross Validation**"
      ]
    },
    {
      "cell_type": "code",
      "execution_count": null,
      "metadata": {
        "colab": {
          "base_uri": "https://localhost:8080/"
        },
        "id": "92tjYK8W8_N_",
        "outputId": "56ab91de-0a1d-46d7-8e25-db88cfa720aa"
      },
      "outputs": [
        {
          "name": "stdout",
          "output_type": "stream",
          "text": [
            "Cross-Validation Scores: [0.95213885 0.95021038 0.94670407 0.94652875 0.95091164]\n",
            "Mean Score: 0.9492987377279102\n",
            "Standard Deviation: 0.0022761335718257513\n"
          ]
        }
      ],
      "source": [
        "model = SVC(kernel= 'linear', gamma= 0.001, C= 1.0)\n",
        "cross_validation(model, 5, X_train['label_1'], y_train['label_1'])"
      ]
    },
    {
      "cell_type": "markdown",
      "metadata": {
        "id": "o1CPAKYo4kpt"
      },
      "source": [
        "**Hyperparameter Tuning**"
      ]
    },
    {
      "cell_type": "code",
      "execution_count": null,
      "metadata": {
        "id": "_4IeFG1jjTSJ"
      },
      "outputs": [],
      "source": [
        "param_distribution = {\n",
        "    'C': [100,10,1,0.1,0.01,0.001],\n",
        "    'kernel': ['linear', 'rbf'],\n",
        "    'gamma': [0.001, 0.01, 0.1, 1, 10]\n",
        "}"
      ]
    },
    {
      "cell_type": "code",
      "execution_count": null,
      "metadata": {
        "colab": {
          "base_uri": "https://localhost:8080/"
        },
        "id": "NcVQwEDAjv2L",
        "outputId": "5f7bfa1b-0f8f-486e-9053-fce17b3cc140"
      },
      "outputs": [
        {
          "name": "stdout",
          "output_type": "stream",
          "text": [
            "Fitting 2 folds for each of 5 candidates, totalling 10 fits\n"
          ]
        }
      ],
      "source": [
        "best_model_l1, best_params_l1 = perform_random_search(SVC(), param_distribution, X_train_selected['label_1'], y_train['label_1'])"
      ]
    },
    {
      "cell_type": "code",
      "execution_count": null,
      "metadata": {
        "colab": {
          "base_uri": "https://localhost:8080/",
          "height": 74
        },
        "id": "0dUpIKE4V8HE",
        "outputId": "6be301b8-0acc-42f3-af29-3470ed856d87"
      },
      "outputs": [
        {
          "data": {
            "text/html": [
              "<style>#sk-container-id-1 {color: black;background-color: white;}#sk-container-id-1 pre{padding: 0;}#sk-container-id-1 div.sk-toggleable {background-color: white;}#sk-container-id-1 label.sk-toggleable__label {cursor: pointer;display: block;width: 100%;margin-bottom: 0;padding: 0.3em;box-sizing: border-box;text-align: center;}#sk-container-id-1 label.sk-toggleable__label-arrow:before {content: \"▸\";float: left;margin-right: 0.25em;color: #696969;}#sk-container-id-1 label.sk-toggleable__label-arrow:hover:before {color: black;}#sk-container-id-1 div.sk-estimator:hover label.sk-toggleable__label-arrow:before {color: black;}#sk-container-id-1 div.sk-toggleable__content {max-height: 0;max-width: 0;overflow: hidden;text-align: left;background-color: #f0f8ff;}#sk-container-id-1 div.sk-toggleable__content pre {margin: 0.2em;color: black;border-radius: 0.25em;background-color: #f0f8ff;}#sk-container-id-1 input.sk-toggleable__control:checked~div.sk-toggleable__content {max-height: 200px;max-width: 100%;overflow: auto;}#sk-container-id-1 input.sk-toggleable__control:checked~label.sk-toggleable__label-arrow:before {content: \"▾\";}#sk-container-id-1 div.sk-estimator input.sk-toggleable__control:checked~label.sk-toggleable__label {background-color: #d4ebff;}#sk-container-id-1 div.sk-label input.sk-toggleable__control:checked~label.sk-toggleable__label {background-color: #d4ebff;}#sk-container-id-1 input.sk-hidden--visually {border: 0;clip: rect(1px 1px 1px 1px);clip: rect(1px, 1px, 1px, 1px);height: 1px;margin: -1px;overflow: hidden;padding: 0;position: absolute;width: 1px;}#sk-container-id-1 div.sk-estimator {font-family: monospace;background-color: #f0f8ff;border: 1px dotted black;border-radius: 0.25em;box-sizing: border-box;margin-bottom: 0.5em;}#sk-container-id-1 div.sk-estimator:hover {background-color: #d4ebff;}#sk-container-id-1 div.sk-parallel-item::after {content: \"\";width: 100%;border-bottom: 1px solid gray;flex-grow: 1;}#sk-container-id-1 div.sk-label:hover label.sk-toggleable__label {background-color: #d4ebff;}#sk-container-id-1 div.sk-serial::before {content: \"\";position: absolute;border-left: 1px solid gray;box-sizing: border-box;top: 0;bottom: 0;left: 50%;z-index: 0;}#sk-container-id-1 div.sk-serial {display: flex;flex-direction: column;align-items: center;background-color: white;padding-right: 0.2em;padding-left: 0.2em;position: relative;}#sk-container-id-1 div.sk-item {position: relative;z-index: 1;}#sk-container-id-1 div.sk-parallel {display: flex;align-items: stretch;justify-content: center;background-color: white;position: relative;}#sk-container-id-1 div.sk-item::before, #sk-container-id-1 div.sk-parallel-item::before {content: \"\";position: absolute;border-left: 1px solid gray;box-sizing: border-box;top: 0;bottom: 0;left: 50%;z-index: -1;}#sk-container-id-1 div.sk-parallel-item {display: flex;flex-direction: column;z-index: 1;position: relative;background-color: white;}#sk-container-id-1 div.sk-parallel-item:first-child::after {align-self: flex-end;width: 50%;}#sk-container-id-1 div.sk-parallel-item:last-child::after {align-self: flex-start;width: 50%;}#sk-container-id-1 div.sk-parallel-item:only-child::after {width: 0;}#sk-container-id-1 div.sk-dashed-wrapped {border: 1px dashed gray;margin: 0 0.4em 0.5em 0.4em;box-sizing: border-box;padding-bottom: 0.4em;background-color: white;}#sk-container-id-1 div.sk-label label {font-family: monospace;font-weight: bold;display: inline-block;line-height: 1.2em;}#sk-container-id-1 div.sk-label-container {text-align: center;}#sk-container-id-1 div.sk-container {/* jupyter's `normalize.less` sets `[hidden] { display: none; }` but bootstrap.min.css set `[hidden] { display: none !important; }` so we also need the `!important` here to be able to override the default hidden behavior on the sphinx rendered scikit-learn.org. See: https://github.com/scikit-learn/scikit-learn/issues/21755 */display: inline-block !important;position: relative;}#sk-container-id-1 div.sk-text-repr-fallback {display: none;}</style><div id=\"sk-container-id-1\" class=\"sk-top-container\"><div class=\"sk-text-repr-fallback\"><pre>SVC(C=0.1, gamma=0.1, kernel=&#x27;linear&#x27;)</pre><b>In a Jupyter environment, please rerun this cell to show the HTML representation or trust the notebook. <br />On GitHub, the HTML representation is unable to render, please try loading this page with nbviewer.org.</b></div><div class=\"sk-container\" hidden><div class=\"sk-item\"><div class=\"sk-estimator sk-toggleable\"><input class=\"sk-toggleable__control sk-hidden--visually\" id=\"sk-estimator-id-1\" type=\"checkbox\" checked><label for=\"sk-estimator-id-1\" class=\"sk-toggleable__label sk-toggleable__label-arrow\">SVC</label><div class=\"sk-toggleable__content\"><pre>SVC(C=0.1, gamma=0.1, kernel=&#x27;linear&#x27;)</pre></div></div></div></div></div>"
            ],
            "text/plain": [
              "SVC(C=0.1, gamma=0.1, kernel='linear')"
            ]
          },
          "execution_count": 43,
          "metadata": {},
          "output_type": "execute_result"
        }
      ],
      "source": [
        "best_model_l1"
      ]
    },
    {
      "cell_type": "code",
      "execution_count": null,
      "metadata": {
        "colab": {
          "base_uri": "https://localhost:8080/"
        },
        "id": "V9f2uHWHWAV3",
        "outputId": "ba46add2-b35d-4daf-80f8-6a0d7ed88a88"
      },
      "outputs": [
        {
          "data": {
            "text/plain": [
              "{'kernel': 'linear', 'gamma': 0.1, 'C': 0.1}"
            ]
          },
          "execution_count": 44,
          "metadata": {},
          "output_type": "execute_result"
        }
      ],
      "source": [
        "best_params_l1"
      ]
    },
    {
      "cell_type": "code",
      "execution_count": null,
      "metadata": {
        "colab": {
          "base_uri": "https://localhost:8080/"
        },
        "id": "2vaKuLYPWRrs",
        "outputId": "1ee2236f-9acd-428d-bcc6-91fbf27dce04"
      },
      "outputs": [
        {
          "name": "stdout",
          "output_type": "stream",
          "text": [
            "+ Accuracy Score for label_1 using best model with hyper parameter tuning = 0.9613333333333334\n"
          ]
        }
      ],
      "source": [
        "# best_model.fit(X_train_selected_l1['label_1'], y_train['label_1'])\n",
        "y_predicition_label_1 = best_model_l1.predict(X_valid_selected['label_1'])\n",
        "print(f\"+ Accuracy Score for label_1 using best model with hyper parameter tuning = {accuracy_score(y_valid['label_1'], y_predicition_label_1)}\")"
      ]
    },
    {
      "cell_type": "markdown",
      "metadata": {
        "id": "udC0Rs1MYSru"
      },
      "source": [
        "# Label 02"
      ]
    },
    {
      "cell_type": "code",
      "execution_count": null,
      "metadata": {
        "colab": {
          "base_uri": "https://localhost:8080/",
          "height": 541
        },
        "id": "whx9aUJDeqLC",
        "outputId": "8de9d4d4-6e34-4d2d-a608-ea09d467b17a"
      },
      "outputs": [
        {
          "data": {
            "text/plain": [
              "<Axes: xlabel='label_2', ylabel='count'>"
            ]
          },
          "execution_count": 46,
          "metadata": {},
          "output_type": "execute_result"
        },
        {
          "data": {
            "image/png": "[encoded data removed]",
            "text/plain": [
              "<Figure size 1800x600 with 1 Axes>"
            ]
          },
          "metadata": {},
          "output_type": "display_data"
        }
      ],
      "source": [
        "plt.figure(figsize=(18,6))\n",
        "sn.countplot(data=y_train, x = 'label_2', color = 'skyblue')"
      ]
    },
    {
      "cell_type": "markdown",
      "metadata": {
        "id": "XN8yl2fbeqLD"
      },
      "source": [
        "**Testing the performance of the initial dataset after data standardization using evaluation metrics**"
      ]
    },
    {
      "cell_type": "code",
      "execution_count": null,
      "metadata": {
        "colab": {
          "base_uri": "https://localhost:8080/"
        },
        "id": "XTX5bB8seqLE",
        "outputId": "0deb165e-f539-4a5c-bf13-66eb70237ee5"
      },
      "outputs": [
        {
          "name": "stdout",
          "output_type": "stream",
          "text": [
            "+ Accuracy Score for label_2 = 0.8097826086956522\n"
          ]
        }
      ],
      "source": [
        "weighted_support_vector_model('label_2', X_train, X_valid, y_train, y_valid)"
      ]
    },
    {
      "cell_type": "markdown",
      "metadata": {
        "id": "cq3A57MdeqLE"
      },
      "source": [
        "**K best method for feature selection**"
      ]
    },
    {
      "cell_type": "code",
      "execution_count": null,
      "metadata": {
        "id": "btW65-bJeqLF"
      },
      "outputs": [],
      "source": [
        "# Number of new features\n",
        "new_features = 560\n",
        "selector = SelectKBest(f_classif, k=new_features)\n"
      ]
    },
    {
      "cell_type": "code",
      "execution_count": null,
      "metadata": {
        "colab": {
          "base_uri": "https://localhost:8080/"
        },
        "id": "vQDXk_KYeqLF",
        "outputId": "e1d5cc8d-1ff0-43e8-a5e8-4ae79cb24d7c"
      },
      "outputs": [
        {
          "name": "stderr",
          "output_type": "stream",
          "text": [
            "/usr/local/lib/python3.10/dist-packages/sklearn/base.py:432: UserWarning: X has feature names, but SelectKBest was fitted without feature names\n",
            "  warnings.warn(\n"
          ]
        }
      ],
      "source": [
        "\n",
        "# Initialize dictionaries for selected features\n",
        "X_train_selected = {}\n",
        "X_valid_selected = {}\n",
        "X_test_selected_l2 = X_test.copy()\n",
        "\n",
        "X_train_selected['label_2'] = pd.DataFrame(selector.fit_transform(X_train['label_2'], y_train['label_2']))\n",
        "X_valid_selected['label_2'] = pd.DataFrame(selector.transform(X_valid['label_2']))\n",
        "X_test_selected_l2 = pd.DataFrame(selector.transform(X_test_selected_l2))"
      ]
    },
    {
      "cell_type": "markdown",
      "metadata": {
        "id": "sWsAOWuseqLG"
      },
      "source": [
        "**Evaluating accuracy after the process of selecting relevant features using K-Best**"
      ]
    },
    {
      "cell_type": "code",
      "execution_count": null,
      "metadata": {
        "colab": {
          "base_uri": "https://localhost:8080/"
        },
        "id": "WSLfH0IweqLG",
        "outputId": "58ed2619-b5dc-432b-cc09-1d07754dca1b"
      },
      "outputs": [
        {
          "name": "stdout",
          "output_type": "stream",
          "text": [
            "+ Accuracy Score for label_2 = 0.7961956521739131\n"
          ]
        }
      ],
      "source": [
        "weighted_support_vector_model('label_2', X_train_selected, X_valid_selected, y_train, y_valid)"
      ]
    },
    {
      "cell_type": "markdown",
      "metadata": {
        "id": "woIRoAj9eqLG"
      },
      "source": [
        "**Principal Component Analysis for feature selection**"
      ]
    },
    {
      "cell_type": "code",
      "execution_count": null,
      "metadata": {
        "colab": {
          "base_uri": "https://localhost:8080/"
        },
        "id": "9jtbDzaZeqLH",
        "outputId": "a827a456-f879-4f4e-ba30-b70febb76db4"
      },
      "outputs": [
        {
          "name": "stderr",
          "output_type": "stream",
          "text": [
            "/usr/local/lib/python3.10/dist-packages/sklearn/base.py:432: UserWarning: X has feature names, but PCA was fitted without feature names\n",
            "  warnings.warn(\n"
          ]
        }
      ],
      "source": [
        "from sklearn.decomposition import PCA\n",
        "\n",
        "pca = PCA(n_components=0.99, svd_solver='full')\n",
        "\n",
        "# Initialize dictionaries for selected features\n",
        "X_train_pca_selected = {}\n",
        "X_valid_pca_selected = {}\n",
        "X_test_pca_selected_l2 = X_test.copy()\n",
        "\n",
        "X_train_pca_selected['label_2'] = pd.DataFrame(pca.fit_transform(X_train['label_2']))\n",
        "X_valid_pca_selected['label_2'] = pd.DataFrame(pca.transform(X_valid['label_2']))\n",
        "X_test_pca_selected_l2 = pd.DataFrame(pca.transform(X_test_pca_selected_l2))\n"
      ]
    },
    {
      "cell_type": "markdown",
      "metadata": {
        "id": "nXW8SoKreqLH"
      },
      "source": [
        "**Evaluating accuracy after the process of selecting relevant features using PCA**"
      ]
    },
    {
      "cell_type": "code",
      "execution_count": null,
      "metadata": {
        "colab": {
          "base_uri": "https://localhost:8080/"
        },
        "id": "NyH_f8_meqLH",
        "outputId": "58494056-330c-4f76-d8b4-5f669ed0cbbd"
      },
      "outputs": [
        {
          "name": "stdout",
          "output_type": "stream",
          "text": [
            "+ Accuracy Score for label_2 = 0.811141304347826\n"
          ]
        }
      ],
      "source": [
        "weighted_support_vector_model('label_2', X_train_pca_selected, X_valid_pca_selected, y_train, y_valid)"
      ]
    },
    {
      "cell_type": "markdown",
      "metadata": {
        "id": "in17pqAueqLJ"
      },
      "source": [
        "**Cross Validation**"
      ]
    },
    {
      "cell_type": "code",
      "execution_count": null,
      "metadata": {
        "colab": {
          "base_uri": "https://localhost:8080/"
        },
        "id": "FJtEF9b7eqLJ",
        "outputId": "c73cc9c9-da7e-4735-e33d-b4926c895f09"
      },
      "outputs": [
        {
          "name": "stdout",
          "output_type": "stream",
          "text": [
            "Cross-Validation Scores: [0.3910485  0.56187589 0.60859486 0.60021398 0.43937233]\n",
            "Mean Score: 0.5202211126961485\n",
            "Standard Deviation: 0.08850535484585233\n"
          ]
        }
      ],
      "source": [
        "model = SVC(kernel= 'linear', gamma= 0.001, C= 1.0)\n",
        "cross_validation(model, 5, X_train['label_2'], y_train['label_2'])"
      ]
    },
    {
      "cell_type": "markdown",
      "metadata": {
        "id": "xR5bB_-deqLH"
      },
      "source": [
        "**Hyperparameter Tuning**"
      ]
    },
    {
      "cell_type": "code",
      "execution_count": null,
      "metadata": {
        "id": "EY_PKP3seqLI"
      },
      "outputs": [],
      "source": [
        "param_distribution = {\n",
        "    'C': [100,10,1,0.1,0.01,0.001],\n",
        "    'kernel': ['linear', 'rbf', 'poly'],\n",
        "    'gamma': [0.001, 0.01, 0.1, 1, 10],\n",
        "    'class_weight': ['balanced', None]\n",
        "}"
      ]
    },
    {
      "cell_type": "code",
      "execution_count": null,
      "metadata": {
        "colab": {
          "base_uri": "https://localhost:8080/"
        },
        "id": "SWuftpdCeqLI",
        "outputId": "bf6124c3-72ce-4e30-9ee9-0e1415d04a2d"
      },
      "outputs": [
        {
          "name": "stdout",
          "output_type": "stream",
          "text": [
            "Fitting 2 folds for each of 5 candidates, totalling 10 fits\n"
          ]
        }
      ],
      "source": [
        "best_model_l2, best_params_l2 = perform_random_search(SVC(), param_distribution, X_train_pca_selected['label_2'], y_train['label_2'])"
      ]
    },
    {
      "cell_type": "code",
      "execution_count": null,
      "metadata": {
        "colab": {
          "base_uri": "https://localhost:8080/",
          "height": 74
        },
        "id": "9kIivf2WeqLI",
        "outputId": "2370f744-83b8-410d-e991-9f67ee251ccf"
      },
      "outputs": [
        {
          "data": {
            "text/html": [
              "<style>#sk-container-id-2 {color: black;background-color: white;}#sk-container-id-2 pre{padding: 0;}#sk-container-id-2 div.sk-toggleable {background-color: white;}#sk-container-id-2 label.sk-toggleable__label {cursor: pointer;display: block;width: 100%;margin-bottom: 0;padding: 0.3em;box-sizing: border-box;text-align: center;}#sk-container-id-2 label.sk-toggleable__label-arrow:before {content: \"▸\";float: left;margin-right: 0.25em;color: #696969;}#sk-container-id-2 label.sk-toggleable__label-arrow:hover:before {color: black;}#sk-container-id-2 div.sk-estimator:hover label.sk-toggleable__label-arrow:before {color: black;}#sk-container-id-2 div.sk-toggleable__content {max-height: 0;max-width: 0;overflow: hidden;text-align: left;background-color: #f0f8ff;}#sk-container-id-2 div.sk-toggleable__content pre {margin: 0.2em;color: black;border-radius: 0.25em;background-color: #f0f8ff;}#sk-container-id-2 input.sk-toggleable__control:checked~div.sk-toggleable__content {max-height: 200px;max-width: 100%;overflow: auto;}#sk-container-id-2 input.sk-toggleable__control:checked~label.sk-toggleable__label-arrow:before {content: \"▾\";}#sk-container-id-2 div.sk-estimator input.sk-toggleable__control:checked~label.sk-toggleable__label {background-color: #d4ebff;}#sk-container-id-2 div.sk-label input.sk-toggleable__control:checked~label.sk-toggleable__label {background-color: #d4ebff;}#sk-container-id-2 input.sk-hidden--visually {border: 0;clip: rect(1px 1px 1px 1px);clip: rect(1px, 1px, 1px, 1px);height: 1px;margin: -1px;overflow: hidden;padding: 0;position: absolute;width: 1px;}#sk-container-id-2 div.sk-estimator {font-family: monospace;background-color: #f0f8ff;border: 1px dotted black;border-radius: 0.25em;box-sizing: border-box;margin-bottom: 0.5em;}#sk-container-id-2 div.sk-estimator:hover {background-color: #d4ebff;}#sk-container-id-2 div.sk-parallel-item::after {content: \"\";width: 100%;border-bottom: 1px solid gray;flex-grow: 1;}#sk-container-id-2 div.sk-label:hover label.sk-toggleable__label {background-color: #d4ebff;}#sk-container-id-2 div.sk-serial::before {content: \"\";position: absolute;border-left: 1px solid gray;box-sizing: border-box;top: 0;bottom: 0;left: 50%;z-index: 0;}#sk-container-id-2 div.sk-serial {display: flex;flex-direction: column;align-items: center;background-color: white;padding-right: 0.2em;padding-left: 0.2em;position: relative;}#sk-container-id-2 div.sk-item {position: relative;z-index: 1;}#sk-container-id-2 div.sk-parallel {display: flex;align-items: stretch;justify-content: center;background-color: white;position: relative;}#sk-container-id-2 div.sk-item::before, #sk-container-id-2 div.sk-parallel-item::before {content: \"\";position: absolute;border-left: 1px solid gray;box-sizing: border-box;top: 0;bottom: 0;left: 50%;z-index: -1;}#sk-container-id-2 div.sk-parallel-item {display: flex;flex-direction: column;z-index: 1;position: relative;background-color: white;}#sk-container-id-2 div.sk-parallel-item:first-child::after {align-self: flex-end;width: 50%;}#sk-container-id-2 div.sk-parallel-item:last-child::after {align-self: flex-start;width: 50%;}#sk-container-id-2 div.sk-parallel-item:only-child::after {width: 0;}#sk-container-id-2 div.sk-dashed-wrapped {border: 1px dashed gray;margin: 0 0.4em 0.5em 0.4em;box-sizing: border-box;padding-bottom: 0.4em;background-color: white;}#sk-container-id-2 div.sk-label label {font-family: monospace;font-weight: bold;display: inline-block;line-height: 1.2em;}#sk-container-id-2 div.sk-label-container {text-align: center;}#sk-container-id-2 div.sk-container {/* jupyter's `normalize.less` sets `[hidden] { display: none; }` but bootstrap.min.css set `[hidden] { display: none !important; }` so we also need the `!important` here to be able to override the default hidden behavior on the sphinx rendered scikit-learn.org. See: https://github.com/scikit-learn/scikit-learn/issues/21755 */display: inline-block !important;position: relative;}#sk-container-id-2 div.sk-text-repr-fallback {display: none;}</style><div id=\"sk-container-id-2\" class=\"sk-top-container\"><div class=\"sk-text-repr-fallback\"><pre>SVC(C=0.01, gamma=1, kernel=&#x27;linear&#x27;)</pre><b>In a Jupyter environment, please rerun this cell to show the HTML representation or trust the notebook. <br />On GitHub, the HTML representation is unable to render, please try loading this page with nbviewer.org.</b></div><div class=\"sk-container\" hidden><div class=\"sk-item\"><div class=\"sk-estimator sk-toggleable\"><input class=\"sk-toggleable__control sk-hidden--visually\" id=\"sk-estimator-id-2\" type=\"checkbox\" checked><label for=\"sk-estimator-id-2\" class=\"sk-toggleable__label sk-toggleable__label-arrow\">SVC</label><div class=\"sk-toggleable__content\"><pre>SVC(C=0.01, gamma=1, kernel=&#x27;linear&#x27;)</pre></div></div></div></div></div>"
            ],
            "text/plain": [
              "SVC(C=0.01, gamma=1, kernel='linear')"
            ]
          },
          "execution_count": 57,
          "metadata": {},
          "output_type": "execute_result"
        }
      ],
      "source": [
        "best_model_l2"
      ]
    },
    {
      "cell_type": "code",
      "execution_count": null,
      "metadata": {
        "colab": {
          "base_uri": "https://localhost:8080/"
        },
        "id": "26QQjJRXeqLJ",
        "outputId": "e4289b02-ec08-456d-d7ac-88675360c8b8"
      },
      "outputs": [
        {
          "data": {
            "text/plain": [
              "{'kernel': 'linear', 'gamma': 1, 'class_weight': None, 'C': 0.01}"
            ]
          },
          "execution_count": 58,
          "metadata": {},
          "output_type": "execute_result"
        }
      ],
      "source": [
        "best_params_l2"
      ]
    },
    {
      "cell_type": "code",
      "execution_count": null,
      "metadata": {
        "colab": {
          "base_uri": "https://localhost:8080/"
        },
        "id": "7urwmcMfeqLJ",
        "outputId": "406f8e42-8243-4064-9daa-97f20a293a5b"
      },
      "outputs": [
        {
          "name": "stdout",
          "output_type": "stream",
          "text": [
            "+ Accuracy Score for label_1 using best model with hyper parameter tuning = 0.8301630434782609\n"
          ]
        }
      ],
      "source": [
        "# best_model.fit(X_train_selected_l1['label_1'], y_train['label_1'])\n",
        "y_predicition_label_2 = best_model_l2.predict(X_valid_pca_selected['label_2'])\n",
        "print(f\"+ Accuracy Score for label_1 using best model with hyper parameter tuning = {accuracy_score(y_valid['label_2'], y_predicition_label_2)}\")"
      ]
    },
    {
      "cell_type": "markdown",
      "metadata": {
        "id": "am2kdwiJfNDW"
      },
      "source": [
        "# Label 03"
      ]
    },
    {
      "cell_type": "code",
      "execution_count": null,
      "metadata": {
        "colab": {
          "base_uri": "https://localhost:8080/",
          "height": 533
        },
        "id": "I26ppF1OfQlW",
        "outputId": "2654c10d-c88b-4142-a864-ca20d20d7ab7"
      },
      "outputs": [
        {
          "data": {
            "text/plain": [
              "<Axes: xlabel='label_3', ylabel='count'>"
            ]
          },
          "execution_count": 61,
          "metadata": {},
          "output_type": "execute_result"
        },
        {
          "data": {
            "image/png": "[encoded data removed]",
            "text/plain": [
              "<Figure size 1800x600 with 1 Axes>"
            ]
          },
          "metadata": {},
          "output_type": "display_data"
        }
      ],
      "source": [
        "plt.figure(figsize=(18,6))\n",
        "sn.countplot(data=y_train, x = 'label_3', color = 'skyblue')"
      ]
    },
    {
      "cell_type": "markdown",
      "metadata": {
        "id": "t68ko_5LfQlr"
      },
      "source": [
        "**Testing the performance of the initial dataset after data standardization using evaluation metrics**"
      ]
    },
    {
      "cell_type": "code",
      "execution_count": null,
      "metadata": {
        "colab": {
          "base_uri": "https://localhost:8080/"
        },
        "id": "yo9z9uIBfQlr",
        "outputId": "aae8a931-df68-458b-bc07-ae8df60a83fa"
      },
      "outputs": [
        {
          "name": "stdout",
          "output_type": "stream",
          "text": [
            "+ Accuracy Score for label_3 = 0.992\n"
          ]
        }
      ],
      "source": [
        "weighted_support_vector_model('label_3', X_train, X_valid, y_train, y_valid)"
      ]
    },
    {
      "cell_type": "markdown",
      "metadata": {
        "id": "x9R16idIfQls"
      },
      "source": [
        "**K best method for feature selection**"
      ]
    },
    {
      "cell_type": "code",
      "execution_count": null,
      "metadata": {
        "id": "_EztfZckfQls"
      },
      "outputs": [],
      "source": [
        "# Number of new features\n",
        "new_features = 560\n",
        "selector = SelectKBest(f_classif, k=new_features)\n"
      ]
    },
    {
      "cell_type": "code",
      "execution_count": null,
      "metadata": {
        "colab": {
          "base_uri": "https://localhost:8080/"
        },
        "id": "r3I_O78wfQlt",
        "outputId": "46872e92-6094-4e10-ed6c-e29443dee0a2"
      },
      "outputs": [
        {
          "name": "stderr",
          "output_type": "stream",
          "text": [
            "/usr/local/lib/python3.10/dist-packages/sklearn/base.py:432: UserWarning: X has feature names, but SelectKBest was fitted without feature names\n",
            "  warnings.warn(\n"
          ]
        }
      ],
      "source": [
        "\n",
        "# Initialize dictionaries for selected features\n",
        "X_train_selected = {}\n",
        "X_valid_selected = {}\n",
        "X_test_selected_l3 = X_test.copy()\n",
        "\n",
        "X_train_selected['label_3'] = pd.DataFrame(selector.fit_transform(X_train['label_3'], y_train['label_3']))\n",
        "X_valid_selected['label_3'] = pd.DataFrame(selector.transform(X_valid['label_3']))\n",
        "X_test_selected_l3 = pd.DataFrame(selector.transform(X_test_selected_l3))"
      ]
    },
    {
      "cell_type": "markdown",
      "metadata": {
        "id": "hmZfSNP5fQlt"
      },
      "source": [
        "**Evaluating accuracy after the process of selecting relevant features using K-Best**"
      ]
    },
    {
      "cell_type": "code",
      "execution_count": null,
      "metadata": {
        "colab": {
          "base_uri": "https://localhost:8080/"
        },
        "id": "eoS1uLFBfQlt",
        "outputId": "71661868-2b1e-4c9d-d5f5-696671d19b8f"
      },
      "outputs": [
        {
          "name": "stdout",
          "output_type": "stream",
          "text": [
            "+ Accuracy Score for label_3 = 0.992\n"
          ]
        }
      ],
      "source": [
        "weighted_support_vector_model('label_3', X_train_selected, X_valid_selected, y_train, y_valid)"
      ]
    },
    {
      "cell_type": "markdown",
      "metadata": {
        "id": "idbNYu6FfQlt"
      },
      "source": [
        "**Principal Component Analysis for feature selection**"
      ]
    },
    {
      "cell_type": "code",
      "execution_count": null,
      "metadata": {
        "colab": {
          "base_uri": "https://localhost:8080/"
        },
        "id": "TQvGBsUBfQlt",
        "outputId": "ad2664d3-82f1-4e93-d4d6-e5a885981f49"
      },
      "outputs": [
        {
          "name": "stderr",
          "output_type": "stream",
          "text": [
            "/usr/local/lib/python3.10/dist-packages/sklearn/base.py:432: UserWarning: X has feature names, but PCA was fitted without feature names\n",
            "  warnings.warn(\n"
          ]
        }
      ],
      "source": [
        "from sklearn.decomposition import PCA\n",
        "\n",
        "pca = PCA(n_components=0.99, svd_solver='full')\n",
        "\n",
        "# Initialize dictionaries for selected features\n",
        "X_train_pca_selected = {}\n",
        "X_valid_pca_selected = {}\n",
        "X_test_pca_selected_l3 = X_test.copy()\n",
        "\n",
        "X_train_pca_selected['label_3'] = pd.DataFrame(pca.fit_transform(X_train['label_3']))\n",
        "X_valid_pca_selected['label_3'] = pd.DataFrame(pca.transform(X_valid['label_3']))\n",
        "X_test_pca_selected_l3 = pd.DataFrame(pca.transform(X_test_pca_selected_l3))\n"
      ]
    },
    {
      "cell_type": "markdown",
      "metadata": {
        "id": "65jzDOc6fQlu"
      },
      "source": [
        "**Evaluating accuracy after the process of selecting relevant features using PCA**"
      ]
    },
    {
      "cell_type": "code",
      "execution_count": null,
      "metadata": {
        "colab": {
          "base_uri": "https://localhost:8080/"
        },
        "id": "ek1NaGQ4fQlu",
        "outputId": "afd4d27d-6c04-4b62-e277-0238d937e50c"
      },
      "outputs": [
        {
          "name": "stdout",
          "output_type": "stream",
          "text": [
            "+ Accuracy Score for label_3 = 0.9893333333333333\n"
          ]
        }
      ],
      "source": [
        "weighted_support_vector_model('label_3', X_train_pca_selected, X_valid_pca_selected, y_train, y_valid)"
      ]
    },
    {
      "cell_type": "markdown",
      "metadata": {
        "id": "7VseFZ94fQlv"
      },
      "source": [
        "**Cross Validation**"
      ]
    },
    {
      "cell_type": "code",
      "execution_count": null,
      "metadata": {
        "colab": {
          "base_uri": "https://localhost:8080/"
        },
        "id": "dBa6m2wwfQlv",
        "outputId": "6d75f230-95b5-4a6f-df10-27e63702055b"
      },
      "outputs": [
        {
          "name": "stdout",
          "output_type": "stream",
          "text": [
            "Cross-Validation Scores: [0.97019635 0.99421459 0.98053997 0.98439691 0.99333801]\n",
            "Mean Score: 0.9845371669004208\n",
            "Standard Deviation: 0.00886299526998978\n"
          ]
        }
      ],
      "source": [
        "model = SVC(kernel= 'linear', gamma= 0.001, C= 1.0)\n",
        "cross_validation(model, 5, X_train_selected['label_3'], y_train['label_3'])"
      ]
    },
    {
      "cell_type": "markdown",
      "metadata": {
        "id": "uvGqqLXZfQlu"
      },
      "source": [
        "**Hyperparameter Tuning**"
      ]
    },
    {
      "cell_type": "code",
      "execution_count": null,
      "metadata": {
        "id": "BTk0tO9sfQlu"
      },
      "outputs": [],
      "source": [
        "param_distribution = {\n",
        "    'C': [100,10,1,0.1,0.01,0.001],\n",
        "    'kernel': ['linear', 'rbf'],\n",
        "    'gamma': [0.001, 0.01, 0.1, 1, 10],\n",
        "    'class_weight': ['balanced'],\n",
        "}"
      ]
    },
    {
      "cell_type": "code",
      "execution_count": null,
      "metadata": {
        "colab": {
          "base_uri": "https://localhost:8080/"
        },
        "id": "R81Nn3MkfQlu",
        "outputId": "64786208-6e67-44fb-f2b1-5f276c319399"
      },
      "outputs": [
        {
          "name": "stdout",
          "output_type": "stream",
          "text": [
            "Fitting 2 folds for each of 5 candidates, totalling 10 fits\n"
          ]
        }
      ],
      "source": [
        "best_model_l3, best_params_l3 = perform_random_search(SVC(), param_distribution, X_train_selected['label_3'], y_train['label_3'])"
      ]
    },
    {
      "cell_type": "code",
      "execution_count": null,
      "metadata": {
        "colab": {
          "base_uri": "https://localhost:8080/",
          "height": 74
        },
        "id": "to3VBpE0fQlu",
        "outputId": "25e7fa23-1c67-4e56-d748-c7324c8d050d"
      },
      "outputs": [
        {
          "data": {
            "text/html": [
              "<style>#sk-container-id-3 {color: black;background-color: white;}#sk-container-id-3 pre{padding: 0;}#sk-container-id-3 div.sk-toggleable {background-color: white;}#sk-container-id-3 label.sk-toggleable__label {cursor: pointer;display: block;width: 100%;margin-bottom: 0;padding: 0.3em;box-sizing: border-box;text-align: center;}#sk-container-id-3 label.sk-toggleable__label-arrow:before {content: \"▸\";float: left;margin-right: 0.25em;color: #696969;}#sk-container-id-3 label.sk-toggleable__label-arrow:hover:before {color: black;}#sk-container-id-3 div.sk-estimator:hover label.sk-toggleable__label-arrow:before {color: black;}#sk-container-id-3 div.sk-toggleable__content {max-height: 0;max-width: 0;overflow: hidden;text-align: left;background-color: #f0f8ff;}#sk-container-id-3 div.sk-toggleable__content pre {margin: 0.2em;color: black;border-radius: 0.25em;background-color: #f0f8ff;}#sk-container-id-3 input.sk-toggleable__control:checked~div.sk-toggleable__content {max-height: 200px;max-width: 100%;overflow: auto;}#sk-container-id-3 input.sk-toggleable__control:checked~label.sk-toggleable__label-arrow:before {content: \"▾\";}#sk-container-id-3 div.sk-estimator input.sk-toggleable__control:checked~label.sk-toggleable__label {background-color: #d4ebff;}#sk-container-id-3 div.sk-label input.sk-toggleable__control:checked~label.sk-toggleable__label {background-color: #d4ebff;}#sk-container-id-3 input.sk-hidden--visually {border: 0;clip: rect(1px 1px 1px 1px);clip: rect(1px, 1px, 1px, 1px);height: 1px;margin: -1px;overflow: hidden;padding: 0;position: absolute;width: 1px;}#sk-container-id-3 div.sk-estimator {font-family: monospace;background-color: #f0f8ff;border: 1px dotted black;border-radius: 0.25em;box-sizing: border-box;margin-bottom: 0.5em;}#sk-container-id-3 div.sk-estimator:hover {background-color: #d4ebff;}#sk-container-id-3 div.sk-parallel-item::after {content: \"\";width: 100%;border-bottom: 1px solid gray;flex-grow: 1;}#sk-container-id-3 div.sk-label:hover label.sk-toggleable__label {background-color: #d4ebff;}#sk-container-id-3 div.sk-serial::before {content: \"\";position: absolute;border-left: 1px solid gray;box-sizing: border-box;top: 0;bottom: 0;left: 50%;z-index: 0;}#sk-container-id-3 div.sk-serial {display: flex;flex-direction: column;align-items: center;background-color: white;padding-right: 0.2em;padding-left: 0.2em;position: relative;}#sk-container-id-3 div.sk-item {position: relative;z-index: 1;}#sk-container-id-3 div.sk-parallel {display: flex;align-items: stretch;justify-content: center;background-color: white;position: relative;}#sk-container-id-3 div.sk-item::before, #sk-container-id-3 div.sk-parallel-item::before {content: \"\";position: absolute;border-left: 1px solid gray;box-sizing: border-box;top: 0;bottom: 0;left: 50%;z-index: -1;}#sk-container-id-3 div.sk-parallel-item {display: flex;flex-direction: column;z-index: 1;position: relative;background-color: white;}#sk-container-id-3 div.sk-parallel-item:first-child::after {align-self: flex-end;width: 50%;}#sk-container-id-3 div.sk-parallel-item:last-child::after {align-self: flex-start;width: 50%;}#sk-container-id-3 div.sk-parallel-item:only-child::after {width: 0;}#sk-container-id-3 div.sk-dashed-wrapped {border: 1px dashed gray;margin: 0 0.4em 0.5em 0.4em;box-sizing: border-box;padding-bottom: 0.4em;background-color: white;}#sk-container-id-3 div.sk-label label {font-family: monospace;font-weight: bold;display: inline-block;line-height: 1.2em;}#sk-container-id-3 div.sk-label-container {text-align: center;}#sk-container-id-3 div.sk-container {/* jupyter's `normalize.less` sets `[hidden] { display: none; }` but bootstrap.min.css set `[hidden] { display: none !important; }` so we also need the `!important` here to be able to override the default hidden behavior on the sphinx rendered scikit-learn.org. See: https://github.com/scikit-learn/scikit-learn/issues/21755 */display: inline-block !important;position: relative;}#sk-container-id-3 div.sk-text-repr-fallback {display: none;}</style><div id=\"sk-container-id-3\" class=\"sk-top-container\"><div class=\"sk-text-repr-fallback\"><pre>SVC(C=100, class_weight=&#x27;balanced&#x27;, gamma=0.001)</pre><b>In a Jupyter environment, please rerun this cell to show the HTML representation or trust the notebook. <br />On GitHub, the HTML representation is unable to render, please try loading this page with nbviewer.org.</b></div><div class=\"sk-container\" hidden><div class=\"sk-item\"><div class=\"sk-estimator sk-toggleable\"><input class=\"sk-toggleable__control sk-hidden--visually\" id=\"sk-estimator-id-3\" type=\"checkbox\" checked><label for=\"sk-estimator-id-3\" class=\"sk-toggleable__label sk-toggleable__label-arrow\">SVC</label><div class=\"sk-toggleable__content\"><pre>SVC(C=100, class_weight=&#x27;balanced&#x27;, gamma=0.001)</pre></div></div></div></div></div>"
            ],
            "text/plain": [
              "SVC(C=100, class_weight='balanced', gamma=0.001)"
            ]
          },
          "execution_count": 71,
          "metadata": {},
          "output_type": "execute_result"
        }
      ],
      "source": [
        "best_model_l3"
      ]
    },
    {
      "cell_type": "code",
      "execution_count": null,
      "metadata": {
        "colab": {
          "base_uri": "https://localhost:8080/"
        },
        "id": "4KqoAXwwfQlv",
        "outputId": "b421375b-33f4-453d-bd20-dfb06cb4e427"
      },
      "outputs": [
        {
          "data": {
            "text/plain": [
              "{'kernel': 'rbf', 'gamma': 0.001, 'class_weight': 'balanced', 'C': 100}"
            ]
          },
          "execution_count": 72,
          "metadata": {},
          "output_type": "execute_result"
        }
      ],
      "source": [
        "best_params_l3"
      ]
    },
    {
      "cell_type": "code",
      "execution_count": null,
      "metadata": {
        "colab": {
          "base_uri": "https://localhost:8080/"
        },
        "id": "yab3_uHWfQlv",
        "outputId": "c20079fa-8310-449b-f13d-a7f89b5cea48"
      },
      "outputs": [
        {
          "name": "stdout",
          "output_type": "stream",
          "text": [
            "+ Accuracy Score for label_1 using best model with hyper parameter tuning = 0.996\n"
          ]
        }
      ],
      "source": [
        "y_predicition_label_3 = best_model_l3.predict(X_valid_selected['label_3'])\n",
        "print(f\"+ Accuracy Score for label_1 using best model with hyper parameter tuning = {accuracy_score(y_valid['label_3'], y_predicition_label_3)}\")"
      ]
    },
    {
      "cell_type": "markdown",
      "metadata": {
        "id": "wg4wuRF6fnIw"
      },
      "source": [
        "# Label 04"
      ]
    },
    {
      "cell_type": "code",
      "execution_count": null,
      "metadata": {
        "colab": {
          "base_uri": "https://localhost:8080/",
          "height": 533
        },
        "id": "hMS2CSaAfqgy",
        "outputId": "fb3ccab0-3d74-4731-b530-4238a110339c"
      },
      "outputs": [
        {
          "data": {
            "text/plain": [
              "<Axes: xlabel='label_4', ylabel='count'>"
            ]
          },
          "execution_count": 74,
          "metadata": {},
          "output_type": "execute_result"
        },
        {
          "data": {
            "image/png": "[encoded data removed]",
            "text/plain": [
              "<Figure size 1800x600 with 1 Axes>"
            ]
          },
          "metadata": {},
          "output_type": "display_data"
        }
      ],
      "source": [
        "plt.figure(figsize=(18,6))\n",
        "sn.countplot(data=y_train, x = 'label_4', color = 'skyblue')"
      ]
    },
    {
      "cell_type": "markdown",
      "metadata": {
        "id": "9rpWe41Mfqgy"
      },
      "source": [
        "**Testing the performance of the initial dataset after data standardization using evaluation metrics**"
      ]
    },
    {
      "cell_type": "code",
      "execution_count": null,
      "metadata": {
        "colab": {
          "base_uri": "https://localhost:8080/"
        },
        "id": "9ifrTCIofqgz",
        "outputId": "8c11f6aa-0b81-48c4-f94f-39566e2051d0"
      },
      "outputs": [
        {
          "name": "stdout",
          "output_type": "stream",
          "text": [
            "+ Accuracy Score for label_4 = 0.9413333333333334\n"
          ]
        }
      ],
      "source": [
        "weighted_support_vector_model('label_4', X_train, X_valid, y_train, y_valid)"
      ]
    },
    {
      "cell_type": "markdown",
      "metadata": {
        "id": "P-kPYplHfqgz"
      },
      "source": [
        "**K best method for feature selection**"
      ]
    },
    {
      "cell_type": "code",
      "execution_count": null,
      "metadata": {
        "id": "APxiqBFMfqgz"
      },
      "outputs": [],
      "source": [
        "# Number of new features\n",
        "new_features = 560\n",
        "selector = SelectKBest(f_classif, k=new_features)\n"
      ]
    },
    {
      "cell_type": "code",
      "execution_count": null,
      "metadata": {
        "colab": {
          "base_uri": "https://localhost:8080/"
        },
        "id": "7WObOpN-fqgz",
        "outputId": "1a3e7f8c-eb73-4ce4-a116-05d2d511ca89"
      },
      "outputs": [
        {
          "name": "stderr",
          "output_type": "stream",
          "text": [
            "/usr/local/lib/python3.10/dist-packages/sklearn/base.py:432: UserWarning: X has feature names, but SelectKBest was fitted without feature names\n",
            "  warnings.warn(\n"
          ]
        }
      ],
      "source": [
        "\n",
        "# Initialize dictionaries for selected features\n",
        "X_train_selected = {}\n",
        "X_valid_selected = {}\n",
        "X_test_selected_l4 = X_test.copy()\n",
        "\n",
        "X_train_selected['label_4'] = pd.DataFrame(selector.fit_transform(X_train['label_4'], y_train['label_4']))\n",
        "X_valid_selected['label_4'] = pd.DataFrame(selector.transform(X_valid['label_4']))\n",
        "X_test_selected_l4 = pd.DataFrame(selector.transform(X_test_selected_l4))"
      ]
    },
    {
      "cell_type": "markdown",
      "metadata": {
        "id": "1x31oh7_fqgz"
      },
      "source": [
        "**Evaluating accuracy after the process of selecting relevant features using K-Best**"
      ]
    },
    {
      "cell_type": "code",
      "execution_count": null,
      "metadata": {
        "colab": {
          "base_uri": "https://localhost:8080/"
        },
        "id": "XPbjfaRkfqgz",
        "outputId": "ff36720f-22c2-4d55-dc47-aa1ab5f15fc8"
      },
      "outputs": [
        {
          "name": "stdout",
          "output_type": "stream",
          "text": [
            "+ Accuracy Score for label_4 = 0.9213333333333333\n"
          ]
        }
      ],
      "source": [
        "weighted_support_vector_model('label_4', X_train_selected, X_valid_selected, y_train, y_valid)"
      ]
    },
    {
      "cell_type": "markdown",
      "metadata": {
        "id": "AIc4K2QTfqg0"
      },
      "source": [
        "**Principal Component Analysis for feature selection**"
      ]
    },
    {
      "cell_type": "code",
      "execution_count": null,
      "metadata": {
        "colab": {
          "base_uri": "https://localhost:8080/"
        },
        "id": "bdUAyOFCfqg0",
        "outputId": "68c63ab7-d9d2-4ec6-ed85-1267698417a8"
      },
      "outputs": [
        {
          "name": "stderr",
          "output_type": "stream",
          "text": [
            "/usr/local/lib/python3.10/dist-packages/sklearn/base.py:432: UserWarning: X has feature names, but PCA was fitted without feature names\n",
            "  warnings.warn(\n"
          ]
        }
      ],
      "source": [
        "from sklearn.decomposition import PCA\n",
        "\n",
        "pca = PCA(n_components=0.97, svd_solver='full')\n",
        "\n",
        "# Initialize dictionaries for selected features\n",
        "X_train_pca_selected = {}\n",
        "X_valid_pca_selected = {}\n",
        "X_test_pca_selected_l4 = X_test.copy()\n",
        "\n",
        "X_train_pca_selected['label_4'] = pd.DataFrame(pca.fit_transform(X_train['label_4']))\n",
        "X_valid_pca_selected['label_4'] = pd.DataFrame(pca.transform(X_valid['label_4']))\n",
        "X_test_pca_selected_l4 = pd.DataFrame(pca.transform(X_test_pca_selected_l4))\n"
      ]
    },
    {
      "cell_type": "markdown",
      "metadata": {
        "id": "LPl61aRDfqg0"
      },
      "source": [
        "**Evaluating accuracy after the process of selecting relevant features using PCA**"
      ]
    },
    {
      "cell_type": "code",
      "execution_count": null,
      "metadata": {
        "colab": {
          "base_uri": "https://localhost:8080/"
        },
        "id": "8say76HCfqg0",
        "outputId": "f35fbfd0-ae6d-4ea8-df9e-b213e3fea3d9"
      },
      "outputs": [
        {
          "name": "stdout",
          "output_type": "stream",
          "text": [
            "+ Accuracy Score for label_4 = 0.9053333333333333\n"
          ]
        }
      ],
      "source": [
        "weighted_support_vector_model('label_4', X_train_pca_selected, X_valid_pca_selected, y_train, y_valid)"
      ]
    },
    {
      "cell_type": "markdown",
      "metadata": {
        "id": "p5LZ4W_gfqg0"
      },
      "source": [
        "**Hyperparameter Tuning**"
      ]
    },
    {
      "cell_type": "code",
      "execution_count": null,
      "metadata": {
        "id": "Gq-dD6gwfqg0"
      },
      "outputs": [],
      "source": [
        "param_distribution = {\n",
        "    'C': [100,10,1,0.1,0.01,0.001],\n",
        "    'kernel': ['linear', 'rbf'],\n",
        "    'gamma': [0.001, 0.01, 0.1, 1, 10],\n",
        "    'class_weight': ['balanced'],\n",
        "}"
      ]
    },
    {
      "cell_type": "code",
      "execution_count": null,
      "metadata": {
        "colab": {
          "background_save": true,
          "base_uri": "https://localhost:8080/"
        },
        "id": "k3IG19kufqg1",
        "outputId": "ba40ddc4-8c40-4d23-ce41-aa0f87305a0a"
      },
      "outputs": [
        {
          "name": "stdout",
          "output_type": "stream",
          "text": [
            "Fitting 2 folds for each of 5 candidates, totalling 10 fits\n"
          ]
        }
      ],
      "source": [
        "best_model_l4, best_params_l4 = perform_random_search(SVC(), param_distribution, X_train_selected['label_4'], y_train['label_4'])"
      ]
    },
    {
      "cell_type": "code",
      "execution_count": null,
      "metadata": {
        "id": "5ECKojH_fqg1"
      },
      "outputs": [],
      "source": [
        "best_model_l4"
      ]
    },
    {
      "cell_type": "code",
      "execution_count": null,
      "metadata": {
        "id": "zOMyJiMAfqg1"
      },
      "outputs": [],
      "source": [
        "best_params_l4"
      ]
    },
    {
      "cell_type": "code",
      "execution_count": null,
      "metadata": {
        "id": "nGMSU-Yvfqg1"
      },
      "outputs": [],
      "source": [
        "y_predicition_label_4 = best_model_l4.predict(X_valid_selected['label_4'])\n",
        "print(f\"+ Accuracy Score for label_4 using best model with hyper parameter tuning = {accuracy_score(y_valid['label_4'], y_predicition_label_4)}\")"
      ]
    },
    {
      "cell_type": "markdown",
      "metadata": {
        "id": "AzD1KlwDfqg1"
      },
      "source": [
        "**Cross Validation**"
      ]
    },
    {
      "cell_type": "code",
      "execution_count": null,
      "metadata": {
        "id": "O2y4_5eNfqg1"
      },
      "outputs": [],
      "source": [
        "model = SVC(kernel= 'linear', gamma= 0.001, C= 1.0)\n",
        "cross_validation(model, 5, X_train_selected['label_4'], y_train['label_4'])"
      ]
    },
    {
      "cell_type": "markdown",
      "metadata": {
        "id": "vCV_9D2QG6Th"
      },
      "source": [
        "# Generating CSV file"
      ]
    },
    {
      "cell_type": "code",
      "execution_count": null,
      "metadata": {
        "id": "-yX2zDfCH3Xd"
      },
      "outputs": [],
      "source": [
        "# Make predictions for each label using the best models\n",
        "l1_prediction = best_model_l1.predict(X_test_selected_l4)  # Predictions for label_1\n",
        "l2_prediction = best_model_l2.predict(X_test_selected_l4)  # Predictions for label_2\n",
        "l3_prediction = best_model_l3.predict(X_test_selected_l4)  # Predictions for label_3\n",
        "l4_prediction = best_model_l4.predict(X_test_selected_l4)  # Predictions for label_4\n",
        "\n",
        "# Extract the 'ID' column from the test data for result reporting\n",
        "Ids = testDataFrame['ID']\n",
        "\n",
        "# Create a dictionary to store the results\n",
        "results = {\n",
        "    'ID': Ids,          # Store the 'ID' column\n",
        "    'label_1': l1_prediction,  # Predicted values for label_1\n",
        "    'label_2': l2_prediction,  # Predicted values for label_2\n",
        "    'label_3': l3_prediction,  # Predicted values for label_3\n",
        "    'label_4': l4_prediction   # Predicted values for label_4\n",
        "}\n",
        "\n",
        "# Create a DataFrame to organize the results\n",
        "resultDataFrame = pd.DataFrame(results)\n",
        "\n",
        "# Save the results to a CSV file ('layer_9.csv') without the index column\n",
        "resultDataFrame.to_csv('layer_9.csv', index=False)\n"
      ]
    }
  ],
  "metadata": {
    "colab": {
      "provenance": []
    },
    "kernelspec": {
      "display_name": "Python 3",
      "name": "python3"
    },
    "language_info": {
      "name": "python"
    }
  },
  "nbformat": 4,
  "nbformat_minor": 0
}